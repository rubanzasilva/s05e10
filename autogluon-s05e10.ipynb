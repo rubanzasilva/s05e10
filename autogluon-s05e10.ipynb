{
 "cells": [
  {
   "cell_type": "code",
   "execution_count": 1,
   "id": "d6ff55c8",
   "metadata": {
    "_cell_guid": "b1076dfc-b9ad-4769-8c92-a6c4dae69d19",
    "_kg_hide-output": true,
    "_uuid": "8f2839f25d086af736a60e9eeb907d3b93b6e0e5",
    "execution": {
     "iopub.execute_input": "2025-10-29T14:08:53.710731Z",
     "iopub.status.busy": "2025-10-29T14:08:53.710458Z",
     "iopub.status.idle": "2025-10-29T14:08:55.037159Z",
     "shell.execute_reply": "2025-10-29T14:08:55.036287Z"
    },
    "papermill": {
     "duration": 1.332963,
     "end_time": "2025-10-29T14:08:55.038515",
     "exception": false,
     "start_time": "2025-10-29T14:08:53.705552",
     "status": "completed"
    },
    "tags": []
   },
   "outputs": [
    {
     "name": "stdout",
     "output_type": "stream",
     "text": [
      "/kaggle/input/playground-series-s5e10/sample_submission.csv\n",
      "/kaggle/input/playground-series-s5e10/train.csv\n",
      "/kaggle/input/playground-series-s5e10/test.csv\n",
      "/kaggle/input/simulated-roads-accident-data/synthetic_road_accidents_10k.csv\n",
      "/kaggle/input/simulated-roads-accident-data/synthetic_road_accidents_2k.csv\n",
      "/kaggle/input/simulated-roads-accident-data/synthetic_road_accidents_100k.csv\n"
     ]
    }
   ],
   "source": [
    "# This Python 3 environment comes with many helpful analytics libraries installed\n",
    "# It is defined by the kaggle/python Docker image: https://github.com/kaggle/docker-python\n",
    "# For example, here's several helpful packages to load\n",
    "\n",
    "import numpy as np # linear algebra\n",
    "import pandas as pd # data processing, CSV file I/O (e.g. pd.read_csv)\n",
    "\n",
    "# Input data files are available in the read-only \"../input/\" directory\n",
    "# For example, running this (by clicking run or pressing Shift+Enter) will list all files under the input directory\n",
    "\n",
    "import os\n",
    "for dirname, _, filenames in os.walk('/kaggle/input'):\n",
    "    for filename in filenames:\n",
    "        print(os.path.join(dirname, filename))\n",
    "\n",
    "# You can write up to 20GB to the current directory (/kaggle/working/) that gets preserved as output when you create a version using \"Save & Run All\" \n",
    "# You can also write temporary files to /kaggle/temp/, but they won't be saved outside of the current session"
   ]
  },
  {
   "cell_type": "code",
   "execution_count": 2,
   "id": "ff8ff145",
   "metadata": {
    "_kg_hide-input": true,
    "_kg_hide-output": true,
    "execution": {
     "iopub.execute_input": "2025-10-29T14:08:55.046693Z",
     "iopub.status.busy": "2025-10-29T14:08:55.046089Z",
     "iopub.status.idle": "2025-10-29T14:08:55.049349Z",
     "shell.execute_reply": "2025-10-29T14:08:55.048663Z"
    },
    "papermill": {
     "duration": 0.008187,
     "end_time": "2025-10-29T14:08:55.050406",
     "exception": false,
     "start_time": "2025-10-29T14:08:55.042219",
     "status": "completed"
    },
    "scrolled": true,
    "tags": []
   },
   "outputs": [],
   "source": [
    "#!uv pip install -U autogluon > /dev/null\n",
    "#!uv pip install -U autogluon > /dev/null"
   ]
  },
  {
   "cell_type": "code",
   "execution_count": 3,
   "id": "733501df",
   "metadata": {
    "execution": {
     "iopub.execute_input": "2025-10-29T14:08:55.058041Z",
     "iopub.status.busy": "2025-10-29T14:08:55.057501Z",
     "iopub.status.idle": "2025-10-29T14:08:55.060581Z",
     "shell.execute_reply": "2025-10-29T14:08:55.059916Z"
    },
    "papermill": {
     "duration": 0.007985,
     "end_time": "2025-10-29T14:08:55.061670",
     "exception": false,
     "start_time": "2025-10-29T14:08:55.053685",
     "status": "completed"
    },
    "tags": []
   },
   "outputs": [],
   "source": [
    "#!pip uninstall pyarrow -y\n",
    "#!pip install pyarrow==17.0.0"
   ]
  },
  {
   "cell_type": "code",
   "execution_count": 4,
   "id": "cf889a69",
   "metadata": {
    "execution": {
     "iopub.execute_input": "2025-10-29T14:08:55.069070Z",
     "iopub.status.busy": "2025-10-29T14:08:55.068533Z",
     "iopub.status.idle": "2025-10-29T14:08:55.071416Z",
     "shell.execute_reply": "2025-10-29T14:08:55.070915Z"
    },
    "papermill": {
     "duration": 0.00743,
     "end_time": "2025-10-29T14:08:55.072365",
     "exception": false,
     "start_time": "2025-10-29T14:08:55.064935",
     "status": "completed"
    },
    "scrolled": true,
    "tags": []
   },
   "outputs": [],
   "source": [
    "#!uv pip install -U autogluon > /dev/null\n",
    "#!uv pip install autogluon > /dev/null"
   ]
  },
  {
   "cell_type": "code",
   "execution_count": 5,
   "id": "c327121e",
   "metadata": {
    "execution": {
     "iopub.execute_input": "2025-10-29T14:08:55.079772Z",
     "iopub.status.busy": "2025-10-29T14:08:55.079575Z",
     "iopub.status.idle": "2025-10-29T14:09:24.002519Z",
     "shell.execute_reply": "2025-10-29T14:09:24.001612Z"
    },
    "papermill": {
     "duration": 28.928108,
     "end_time": "2025-10-29T14:09:24.003742",
     "exception": false,
     "start_time": "2025-10-29T14:08:55.075634",
     "status": "completed"
    },
    "tags": []
   },
   "outputs": [
    {
     "name": "stdout",
     "output_type": "stream",
     "text": [
      "Installing dependencies with uv...\n",
      "Clearing module cache...\n",
      "✓ Cleared 422 modules from cache\n",
      "✓ Setup complete!\n"
     ]
    }
   ],
   "source": [
    "# ===== CELL 1: Complete Setup with Module Cache Clearing =====\n",
    "import sys\n",
    "import subprocess\n",
    "\n",
    "print(\"Installing dependencies with uv...\")\n",
    "\n",
    "# Install compatible versions\n",
    "subprocess.check_call([\"uv\", \"pip\", \"install\", \"--quiet\", \"pyarrow==17.0.0\"])\n",
    "subprocess.check_call([\"uv\", \"pip\", \"install\", \"--quiet\", \"autogluon\"])\n",
    "\n",
    "# CRITICAL: Clear ALL relevant modules from cache\n",
    "print(\"Clearing module cache...\")\n",
    "modules_to_clear = []\n",
    "for module in list(sys.modules.keys()):\n",
    "    # Clear data science stack modules that might conflict\n",
    "    if any(pkg in module.lower() for pkg in ['pandas', 'numpy', 'pyarrow', 'ray', 'sklearn', 'scipy']):\n",
    "        modules_to_clear.append(module)\n",
    "\n",
    "for module in modules_to_clear:\n",
    "    del sys.modules[module]\n",
    "\n",
    "print(f\"✓ Cleared {len(modules_to_clear)} modules from cache\")\n",
    "print(\"✓ Setup complete!\")"
   ]
  },
  {
   "cell_type": "code",
   "execution_count": 6,
   "id": "89bebfc2",
   "metadata": {
    "execution": {
     "iopub.execute_input": "2025-10-29T14:09:24.011810Z",
     "iopub.status.busy": "2025-10-29T14:09:24.011351Z",
     "iopub.status.idle": "2025-10-29T14:09:27.664041Z",
     "shell.execute_reply": "2025-10-29T14:09:27.663160Z"
    },
    "papermill": {
     "duration": 3.657812,
     "end_time": "2025-10-29T14:09:27.665206",
     "exception": false,
     "start_time": "2025-10-29T14:09:24.007394",
     "status": "completed"
    },
    "tags": []
   },
   "outputs": [
    {
     "name": "stderr",
     "output_type": "stream",
     "text": [
      "/usr/local/lib/python3.11/dist-packages/pandas/__init__.py:14: UserWarning: The NumPy module was reloaded (imported a second time). This can in some cases result in small but subtle issues and is discouraged.\n",
      "  __import__(_dependency)\n"
     ]
    },
    {
     "name": "stdout",
     "output_type": "stream",
     "text": [
      "AutoGluon version: autogluon.tabular.predictor.predictor\n",
      "Ray version: 2.44.1\n",
      "PyArrow version: 17.0.0\n",
      "\n",
      "✓ All versions verified correctly!\n"
     ]
    }
   ],
   "source": [
    "# ===== CELL 2: Imports and Verification =====\n",
    "import pandas as pd\n",
    "import pyarrow\n",
    "import ray\n",
    "from autogluon.tabular import TabularPredictor\n",
    "\n",
    "print(f\"AutoGluon version: {TabularPredictor.__module__}\")\n",
    "print(f\"Ray version: {ray.__version__}\")\n",
    "print(f\"PyArrow version: {pyarrow.__version__}\")\n",
    "\n",
    "assert pyarrow.__version__.startswith('17.'), \"PyArrow version check failed!\"\n",
    "print(\"\\n✓ All versions verified correctly!\")"
   ]
  },
  {
   "cell_type": "code",
   "execution_count": 7,
   "id": "e43cd241",
   "metadata": {
    "execution": {
     "iopub.execute_input": "2025-10-29T14:09:27.673497Z",
     "iopub.status.busy": "2025-10-29T14:09:27.673063Z",
     "iopub.status.idle": "2025-10-29T14:09:27.676768Z",
     "shell.execute_reply": "2025-10-29T14:09:27.676067Z"
    },
    "papermill": {
     "duration": 0.008881,
     "end_time": "2025-10-29T14:09:27.677801",
     "exception": false,
     "start_time": "2025-10-29T14:09:27.668920",
     "status": "completed"
    },
    "scrolled": true,
    "tags": []
   },
   "outputs": [],
   "source": [
    "from autogluon.tabular import TabularDataset, TabularPredictor\n",
    "from pathlib import Path\n",
    "import numpy as np # linear algebra\n",
    "import pandas as pd "
   ]
  },
  {
   "cell_type": "code",
   "execution_count": 8,
   "id": "b0f1780b",
   "metadata": {
    "execution": {
     "iopub.execute_input": "2025-10-29T14:09:27.685726Z",
     "iopub.status.busy": "2025-10-29T14:09:27.685171Z",
     "iopub.status.idle": "2025-10-29T14:09:27.690280Z",
     "shell.execute_reply": "2025-10-29T14:09:27.689519Z"
    },
    "papermill": {
     "duration": 0.010108,
     "end_time": "2025-10-29T14:09:27.691355",
     "exception": false,
     "start_time": "2025-10-29T14:09:27.681247",
     "status": "completed"
    },
    "tags": []
   },
   "outputs": [
    {
     "data": {
      "text/plain": [
       "PosixPath('/kaggle/input/playground-series-s5e10')"
      ]
     },
     "execution_count": 8,
     "metadata": {},
     "output_type": "execute_result"
    }
   ],
   "source": [
    "path = Path('/kaggle/input/playground-series-s5e10/')\n",
    "path"
   ]
  },
  {
   "cell_type": "code",
   "execution_count": 9,
   "id": "a7d57e18",
   "metadata": {
    "execution": {
     "iopub.execute_input": "2025-10-29T14:09:27.699307Z",
     "iopub.status.busy": "2025-10-29T14:09:27.699103Z",
     "iopub.status.idle": "2025-10-29T14:09:29.140103Z",
     "shell.execute_reply": "2025-10-29T14:09:29.139260Z"
    },
    "papermill": {
     "duration": 1.446406,
     "end_time": "2025-10-29T14:09:29.141476",
     "exception": false,
     "start_time": "2025-10-29T14:09:27.695070",
     "status": "completed"
    },
    "tags": []
   },
   "outputs": [],
   "source": [
    "train_df = pd.read_csv(path/'train.csv',index_col='id')\n",
    "test_df = pd.read_csv(path/'test.csv',index_col='id')\n",
    "sub_df = pd.read_csv(path/'sample_submission.csv')\n",
    "og_df_a = pd.read_csv('/kaggle/input/simulated-roads-accident-data/synthetic_road_accidents_100k.csv')"
   ]
  },
  {
   "cell_type": "code",
   "execution_count": 10,
   "id": "d10c671b",
   "metadata": {
    "execution": {
     "iopub.execute_input": "2025-10-29T14:09:29.155652Z",
     "iopub.status.busy": "2025-10-29T14:09:29.154998Z",
     "iopub.status.idle": "2025-10-29T14:09:29.182445Z",
     "shell.execute_reply": "2025-10-29T14:09:29.181729Z"
    },
    "papermill": {
     "duration": 0.03469,
     "end_time": "2025-10-29T14:09:29.183548",
     "exception": false,
     "start_time": "2025-10-29T14:09:29.148858",
     "status": "completed"
    },
    "tags": []
   },
   "outputs": [
    {
     "data": {
      "text/html": [
       "<div>\n",
       "<style scoped>\n",
       "    .dataframe tbody tr th:only-of-type {\n",
       "        vertical-align: middle;\n",
       "    }\n",
       "\n",
       "    .dataframe tbody tr th {\n",
       "        vertical-align: top;\n",
       "    }\n",
       "\n",
       "    .dataframe thead th {\n",
       "        text-align: right;\n",
       "    }\n",
       "</style>\n",
       "<table border=\"1\" class=\"dataframe\">\n",
       "  <thead>\n",
       "    <tr style=\"text-align: right;\">\n",
       "      <th></th>\n",
       "      <th>road_type</th>\n",
       "      <th>num_lanes</th>\n",
       "      <th>curvature</th>\n",
       "      <th>speed_limit</th>\n",
       "      <th>lighting</th>\n",
       "      <th>weather</th>\n",
       "      <th>road_signs_present</th>\n",
       "      <th>public_road</th>\n",
       "      <th>time_of_day</th>\n",
       "      <th>holiday</th>\n",
       "      <th>school_season</th>\n",
       "      <th>num_reported_accidents</th>\n",
       "      <th>accident_risk</th>\n",
       "    </tr>\n",
       "  </thead>\n",
       "  <tbody>\n",
       "    <tr>\n",
       "      <th>0</th>\n",
       "      <td>rural</td>\n",
       "      <td>2</td>\n",
       "      <td>0.29</td>\n",
       "      <td>70</td>\n",
       "      <td>night</td>\n",
       "      <td>rainy</td>\n",
       "      <td>False</td>\n",
       "      <td>True</td>\n",
       "      <td>evening</td>\n",
       "      <td>False</td>\n",
       "      <td>False</td>\n",
       "      <td>1</td>\n",
       "      <td>0.64</td>\n",
       "    </tr>\n",
       "    <tr>\n",
       "      <th>1</th>\n",
       "      <td>highway</td>\n",
       "      <td>1</td>\n",
       "      <td>0.34</td>\n",
       "      <td>25</td>\n",
       "      <td>dim</td>\n",
       "      <td>clear</td>\n",
       "      <td>False</td>\n",
       "      <td>False</td>\n",
       "      <td>morning</td>\n",
       "      <td>False</td>\n",
       "      <td>False</td>\n",
       "      <td>3</td>\n",
       "      <td>0.27</td>\n",
       "    </tr>\n",
       "    <tr>\n",
       "      <th>2</th>\n",
       "      <td>rural</td>\n",
       "      <td>2</td>\n",
       "      <td>0.76</td>\n",
       "      <td>70</td>\n",
       "      <td>night</td>\n",
       "      <td>foggy</td>\n",
       "      <td>True</td>\n",
       "      <td>False</td>\n",
       "      <td>evening</td>\n",
       "      <td>True</td>\n",
       "      <td>True</td>\n",
       "      <td>1</td>\n",
       "      <td>0.76</td>\n",
       "    </tr>\n",
       "    <tr>\n",
       "      <th>3</th>\n",
       "      <td>rural</td>\n",
       "      <td>3</td>\n",
       "      <td>0.37</td>\n",
       "      <td>70</td>\n",
       "      <td>night</td>\n",
       "      <td>foggy</td>\n",
       "      <td>True</td>\n",
       "      <td>False</td>\n",
       "      <td>morning</td>\n",
       "      <td>False</td>\n",
       "      <td>True</td>\n",
       "      <td>0</td>\n",
       "      <td>0.60</td>\n",
       "    </tr>\n",
       "    <tr>\n",
       "      <th>4</th>\n",
       "      <td>highway</td>\n",
       "      <td>3</td>\n",
       "      <td>0.39</td>\n",
       "      <td>45</td>\n",
       "      <td>dim</td>\n",
       "      <td>rainy</td>\n",
       "      <td>False</td>\n",
       "      <td>True</td>\n",
       "      <td>morning</td>\n",
       "      <td>False</td>\n",
       "      <td>False</td>\n",
       "      <td>0</td>\n",
       "      <td>0.17</td>\n",
       "    </tr>\n",
       "    <tr>\n",
       "      <th>...</th>\n",
       "      <td>...</td>\n",
       "      <td>...</td>\n",
       "      <td>...</td>\n",
       "      <td>...</td>\n",
       "      <td>...</td>\n",
       "      <td>...</td>\n",
       "      <td>...</td>\n",
       "      <td>...</td>\n",
       "      <td>...</td>\n",
       "      <td>...</td>\n",
       "      <td>...</td>\n",
       "      <td>...</td>\n",
       "      <td>...</td>\n",
       "    </tr>\n",
       "    <tr>\n",
       "      <th>99995</th>\n",
       "      <td>rural</td>\n",
       "      <td>2</td>\n",
       "      <td>0.61</td>\n",
       "      <td>60</td>\n",
       "      <td>dim</td>\n",
       "      <td>foggy</td>\n",
       "      <td>False</td>\n",
       "      <td>True</td>\n",
       "      <td>evening</td>\n",
       "      <td>False</td>\n",
       "      <td>False</td>\n",
       "      <td>1</td>\n",
       "      <td>0.54</td>\n",
       "    </tr>\n",
       "    <tr>\n",
       "      <th>99996</th>\n",
       "      <td>rural</td>\n",
       "      <td>2</td>\n",
       "      <td>0.52</td>\n",
       "      <td>35</td>\n",
       "      <td>dim</td>\n",
       "      <td>foggy</td>\n",
       "      <td>True</td>\n",
       "      <td>True</td>\n",
       "      <td>afternoon</td>\n",
       "      <td>False</td>\n",
       "      <td>False</td>\n",
       "      <td>1</td>\n",
       "      <td>0.18</td>\n",
       "    </tr>\n",
       "    <tr>\n",
       "      <th>99997</th>\n",
       "      <td>rural</td>\n",
       "      <td>2</td>\n",
       "      <td>0.08</td>\n",
       "      <td>70</td>\n",
       "      <td>daylight</td>\n",
       "      <td>clear</td>\n",
       "      <td>False</td>\n",
       "      <td>False</td>\n",
       "      <td>evening</td>\n",
       "      <td>True</td>\n",
       "      <td>False</td>\n",
       "      <td>1</td>\n",
       "      <td>0.20</td>\n",
       "    </tr>\n",
       "    <tr>\n",
       "      <th>99998</th>\n",
       "      <td>rural</td>\n",
       "      <td>1</td>\n",
       "      <td>0.83</td>\n",
       "      <td>70</td>\n",
       "      <td>dim</td>\n",
       "      <td>foggy</td>\n",
       "      <td>False</td>\n",
       "      <td>True</td>\n",
       "      <td>morning</td>\n",
       "      <td>False</td>\n",
       "      <td>True</td>\n",
       "      <td>0</td>\n",
       "      <td>0.58</td>\n",
       "    </tr>\n",
       "    <tr>\n",
       "      <th>99999</th>\n",
       "      <td>rural</td>\n",
       "      <td>2</td>\n",
       "      <td>0.01</td>\n",
       "      <td>45</td>\n",
       "      <td>daylight</td>\n",
       "      <td>foggy</td>\n",
       "      <td>False</td>\n",
       "      <td>True</td>\n",
       "      <td>evening</td>\n",
       "      <td>True</td>\n",
       "      <td>False</td>\n",
       "      <td>2</td>\n",
       "      <td>0.14</td>\n",
       "    </tr>\n",
       "  </tbody>\n",
       "</table>\n",
       "<p>100000 rows × 13 columns</p>\n",
       "</div>"
      ],
      "text/plain": [
       "      road_type  num_lanes  curvature  speed_limit  lighting weather  \\\n",
       "0         rural          2       0.29           70     night   rainy   \n",
       "1       highway          1       0.34           25       dim   clear   \n",
       "2         rural          2       0.76           70     night   foggy   \n",
       "3         rural          3       0.37           70     night   foggy   \n",
       "4       highway          3       0.39           45       dim   rainy   \n",
       "...         ...        ...        ...          ...       ...     ...   \n",
       "99995     rural          2       0.61           60       dim   foggy   \n",
       "99996     rural          2       0.52           35       dim   foggy   \n",
       "99997     rural          2       0.08           70  daylight   clear   \n",
       "99998     rural          1       0.83           70       dim   foggy   \n",
       "99999     rural          2       0.01           45  daylight   foggy   \n",
       "\n",
       "       road_signs_present  public_road time_of_day  holiday  school_season  \\\n",
       "0                   False         True     evening    False          False   \n",
       "1                   False        False     morning    False          False   \n",
       "2                    True        False     evening     True           True   \n",
       "3                    True        False     morning    False           True   \n",
       "4                   False         True     morning    False          False   \n",
       "...                   ...          ...         ...      ...            ...   \n",
       "99995               False         True     evening    False          False   \n",
       "99996                True         True   afternoon    False          False   \n",
       "99997               False        False     evening     True          False   \n",
       "99998               False         True     morning    False           True   \n",
       "99999               False         True     evening     True          False   \n",
       "\n",
       "       num_reported_accidents  accident_risk  \n",
       "0                           1           0.64  \n",
       "1                           3           0.27  \n",
       "2                           1           0.76  \n",
       "3                           0           0.60  \n",
       "4                           0           0.17  \n",
       "...                       ...            ...  \n",
       "99995                       1           0.54  \n",
       "99996                       1           0.18  \n",
       "99997                       1           0.20  \n",
       "99998                       0           0.58  \n",
       "99999                       2           0.14  \n",
       "\n",
       "[100000 rows x 13 columns]"
      ]
     },
     "execution_count": 10,
     "metadata": {},
     "output_type": "execute_result"
    }
   ],
   "source": [
    "og_df_a"
   ]
  },
  {
   "cell_type": "code",
   "execution_count": 11,
   "id": "e32d808e",
   "metadata": {
    "execution": {
     "iopub.execute_input": "2025-10-29T14:09:29.192246Z",
     "iopub.status.busy": "2025-10-29T14:09:29.191685Z",
     "iopub.status.idle": "2025-10-29T14:09:29.203197Z",
     "shell.execute_reply": "2025-10-29T14:09:29.202591Z"
    },
    "papermill": {
     "duration": 0.016851,
     "end_time": "2025-10-29T14:09:29.204257",
     "exception": false,
     "start_time": "2025-10-29T14:09:29.187406",
     "status": "completed"
    },
    "tags": []
   },
   "outputs": [
    {
     "data": {
      "text/html": [
       "<div>\n",
       "<style scoped>\n",
       "    .dataframe tbody tr th:only-of-type {\n",
       "        vertical-align: middle;\n",
       "    }\n",
       "\n",
       "    .dataframe tbody tr th {\n",
       "        vertical-align: top;\n",
       "    }\n",
       "\n",
       "    .dataframe thead th {\n",
       "        text-align: right;\n",
       "    }\n",
       "</style>\n",
       "<table border=\"1\" class=\"dataframe\">\n",
       "  <thead>\n",
       "    <tr style=\"text-align: right;\">\n",
       "      <th></th>\n",
       "      <th>road_type</th>\n",
       "      <th>num_lanes</th>\n",
       "      <th>curvature</th>\n",
       "      <th>speed_limit</th>\n",
       "      <th>lighting</th>\n",
       "      <th>weather</th>\n",
       "      <th>road_signs_present</th>\n",
       "      <th>public_road</th>\n",
       "      <th>time_of_day</th>\n",
       "      <th>holiday</th>\n",
       "      <th>school_season</th>\n",
       "      <th>num_reported_accidents</th>\n",
       "      <th>accident_risk</th>\n",
       "    </tr>\n",
       "    <tr>\n",
       "      <th>id</th>\n",
       "      <th></th>\n",
       "      <th></th>\n",
       "      <th></th>\n",
       "      <th></th>\n",
       "      <th></th>\n",
       "      <th></th>\n",
       "      <th></th>\n",
       "      <th></th>\n",
       "      <th></th>\n",
       "      <th></th>\n",
       "      <th></th>\n",
       "      <th></th>\n",
       "      <th></th>\n",
       "    </tr>\n",
       "  </thead>\n",
       "  <tbody>\n",
       "    <tr>\n",
       "      <th>0</th>\n",
       "      <td>urban</td>\n",
       "      <td>2</td>\n",
       "      <td>0.06</td>\n",
       "      <td>35</td>\n",
       "      <td>daylight</td>\n",
       "      <td>rainy</td>\n",
       "      <td>False</td>\n",
       "      <td>True</td>\n",
       "      <td>afternoon</td>\n",
       "      <td>False</td>\n",
       "      <td>True</td>\n",
       "      <td>1</td>\n",
       "      <td>0.13</td>\n",
       "    </tr>\n",
       "    <tr>\n",
       "      <th>1</th>\n",
       "      <td>urban</td>\n",
       "      <td>4</td>\n",
       "      <td>0.99</td>\n",
       "      <td>35</td>\n",
       "      <td>daylight</td>\n",
       "      <td>clear</td>\n",
       "      <td>True</td>\n",
       "      <td>False</td>\n",
       "      <td>evening</td>\n",
       "      <td>True</td>\n",
       "      <td>True</td>\n",
       "      <td>0</td>\n",
       "      <td>0.35</td>\n",
       "    </tr>\n",
       "    <tr>\n",
       "      <th>2</th>\n",
       "      <td>rural</td>\n",
       "      <td>4</td>\n",
       "      <td>0.63</td>\n",
       "      <td>70</td>\n",
       "      <td>dim</td>\n",
       "      <td>clear</td>\n",
       "      <td>False</td>\n",
       "      <td>True</td>\n",
       "      <td>morning</td>\n",
       "      <td>True</td>\n",
       "      <td>False</td>\n",
       "      <td>2</td>\n",
       "      <td>0.30</td>\n",
       "    </tr>\n",
       "    <tr>\n",
       "      <th>3</th>\n",
       "      <td>highway</td>\n",
       "      <td>4</td>\n",
       "      <td>0.07</td>\n",
       "      <td>35</td>\n",
       "      <td>dim</td>\n",
       "      <td>rainy</td>\n",
       "      <td>True</td>\n",
       "      <td>True</td>\n",
       "      <td>morning</td>\n",
       "      <td>False</td>\n",
       "      <td>False</td>\n",
       "      <td>1</td>\n",
       "      <td>0.21</td>\n",
       "    </tr>\n",
       "    <tr>\n",
       "      <th>4</th>\n",
       "      <td>rural</td>\n",
       "      <td>1</td>\n",
       "      <td>0.58</td>\n",
       "      <td>60</td>\n",
       "      <td>daylight</td>\n",
       "      <td>foggy</td>\n",
       "      <td>False</td>\n",
       "      <td>False</td>\n",
       "      <td>evening</td>\n",
       "      <td>True</td>\n",
       "      <td>False</td>\n",
       "      <td>1</td>\n",
       "      <td>0.56</td>\n",
       "    </tr>\n",
       "    <tr>\n",
       "      <th>...</th>\n",
       "      <td>...</td>\n",
       "      <td>...</td>\n",
       "      <td>...</td>\n",
       "      <td>...</td>\n",
       "      <td>...</td>\n",
       "      <td>...</td>\n",
       "      <td>...</td>\n",
       "      <td>...</td>\n",
       "      <td>...</td>\n",
       "      <td>...</td>\n",
       "      <td>...</td>\n",
       "      <td>...</td>\n",
       "      <td>...</td>\n",
       "    </tr>\n",
       "    <tr>\n",
       "      <th>517749</th>\n",
       "      <td>highway</td>\n",
       "      <td>4</td>\n",
       "      <td>0.10</td>\n",
       "      <td>70</td>\n",
       "      <td>daylight</td>\n",
       "      <td>foggy</td>\n",
       "      <td>True</td>\n",
       "      <td>True</td>\n",
       "      <td>afternoon</td>\n",
       "      <td>False</td>\n",
       "      <td>False</td>\n",
       "      <td>2</td>\n",
       "      <td>0.32</td>\n",
       "    </tr>\n",
       "    <tr>\n",
       "      <th>517750</th>\n",
       "      <td>rural</td>\n",
       "      <td>4</td>\n",
       "      <td>0.47</td>\n",
       "      <td>35</td>\n",
       "      <td>daylight</td>\n",
       "      <td>rainy</td>\n",
       "      <td>True</td>\n",
       "      <td>True</td>\n",
       "      <td>morning</td>\n",
       "      <td>False</td>\n",
       "      <td>False</td>\n",
       "      <td>1</td>\n",
       "      <td>0.26</td>\n",
       "    </tr>\n",
       "    <tr>\n",
       "      <th>517751</th>\n",
       "      <td>urban</td>\n",
       "      <td>4</td>\n",
       "      <td>0.62</td>\n",
       "      <td>25</td>\n",
       "      <td>daylight</td>\n",
       "      <td>foggy</td>\n",
       "      <td>False</td>\n",
       "      <td>False</td>\n",
       "      <td>afternoon</td>\n",
       "      <td>False</td>\n",
       "      <td>True</td>\n",
       "      <td>0</td>\n",
       "      <td>0.19</td>\n",
       "    </tr>\n",
       "    <tr>\n",
       "      <th>517752</th>\n",
       "      <td>highway</td>\n",
       "      <td>3</td>\n",
       "      <td>0.63</td>\n",
       "      <td>25</td>\n",
       "      <td>night</td>\n",
       "      <td>clear</td>\n",
       "      <td>True</td>\n",
       "      <td>False</td>\n",
       "      <td>afternoon</td>\n",
       "      <td>True</td>\n",
       "      <td>True</td>\n",
       "      <td>3</td>\n",
       "      <td>0.51</td>\n",
       "    </tr>\n",
       "    <tr>\n",
       "      <th>517753</th>\n",
       "      <td>highway</td>\n",
       "      <td>2</td>\n",
       "      <td>0.31</td>\n",
       "      <td>45</td>\n",
       "      <td>dim</td>\n",
       "      <td>rainy</td>\n",
       "      <td>False</td>\n",
       "      <td>True</td>\n",
       "      <td>afternoon</td>\n",
       "      <td>True</td>\n",
       "      <td>True</td>\n",
       "      <td>2</td>\n",
       "      <td>0.22</td>\n",
       "    </tr>\n",
       "  </tbody>\n",
       "</table>\n",
       "<p>517754 rows × 13 columns</p>\n",
       "</div>"
      ],
      "text/plain": [
       "       road_type  num_lanes  curvature  speed_limit  lighting weather  \\\n",
       "id                                                                      \n",
       "0          urban          2       0.06           35  daylight   rainy   \n",
       "1          urban          4       0.99           35  daylight   clear   \n",
       "2          rural          4       0.63           70       dim   clear   \n",
       "3        highway          4       0.07           35       dim   rainy   \n",
       "4          rural          1       0.58           60  daylight   foggy   \n",
       "...          ...        ...        ...          ...       ...     ...   \n",
       "517749   highway          4       0.10           70  daylight   foggy   \n",
       "517750     rural          4       0.47           35  daylight   rainy   \n",
       "517751     urban          4       0.62           25  daylight   foggy   \n",
       "517752   highway          3       0.63           25     night   clear   \n",
       "517753   highway          2       0.31           45       dim   rainy   \n",
       "\n",
       "        road_signs_present  public_road time_of_day  holiday  school_season  \\\n",
       "id                                                                            \n",
       "0                    False         True   afternoon    False           True   \n",
       "1                     True        False     evening     True           True   \n",
       "2                    False         True     morning     True          False   \n",
       "3                     True         True     morning    False          False   \n",
       "4                    False        False     evening     True          False   \n",
       "...                    ...          ...         ...      ...            ...   \n",
       "517749                True         True   afternoon    False          False   \n",
       "517750                True         True     morning    False          False   \n",
       "517751               False        False   afternoon    False           True   \n",
       "517752                True        False   afternoon     True           True   \n",
       "517753               False         True   afternoon     True           True   \n",
       "\n",
       "        num_reported_accidents  accident_risk  \n",
       "id                                             \n",
       "0                            1           0.13  \n",
       "1                            0           0.35  \n",
       "2                            2           0.30  \n",
       "3                            1           0.21  \n",
       "4                            1           0.56  \n",
       "...                        ...            ...  \n",
       "517749                       2           0.32  \n",
       "517750                       1           0.26  \n",
       "517751                       0           0.19  \n",
       "517752                       3           0.51  \n",
       "517753                       2           0.22  \n",
       "\n",
       "[517754 rows x 13 columns]"
      ]
     },
     "execution_count": 11,
     "metadata": {},
     "output_type": "execute_result"
    }
   ],
   "source": [
    "train_df"
   ]
  },
  {
   "cell_type": "code",
   "execution_count": 12,
   "id": "4a1641d5",
   "metadata": {
    "execution": {
     "iopub.execute_input": "2025-10-29T14:09:29.213298Z",
     "iopub.status.busy": "2025-10-29T14:09:29.212905Z",
     "iopub.status.idle": "2025-10-29T14:09:29.317609Z",
     "shell.execute_reply": "2025-10-29T14:09:29.315734Z"
    },
    "papermill": {
     "duration": 0.115176,
     "end_time": "2025-10-29T14:09:29.323545",
     "exception": false,
     "start_time": "2025-10-29T14:09:29.208369",
     "status": "completed"
    },
    "scrolled": true,
    "tags": []
   },
   "outputs": [],
   "source": [
    "TabularPredictor.fit??"
   ]
  },
  {
   "cell_type": "code",
   "execution_count": 13,
   "id": "104a314d",
   "metadata": {
    "execution": {
     "iopub.execute_input": "2025-10-29T14:09:29.332678Z",
     "iopub.status.busy": "2025-10-29T14:09:29.332464Z",
     "iopub.status.idle": "2025-10-29T14:09:29.335706Z",
     "shell.execute_reply": "2025-10-29T14:09:29.335196Z"
    },
    "papermill": {
     "duration": 0.008979,
     "end_time": "2025-10-29T14:09:29.336755",
     "exception": false,
     "start_time": "2025-10-29T14:09:29.327776",
     "status": "completed"
    },
    "tags": []
   },
   "outputs": [],
   "source": [
    "target = 'accident_risk'\n",
    "eval_metric = 'rmse'\n",
    "#train_data = train\n",
    "train_data = train_df\n",
    "#Time_limit = 3600*1\n",
    "Time_limit = 900\n",
    "problem_type='regression'"
   ]
  },
  {
   "cell_type": "code",
   "execution_count": 14,
   "id": "18ffc69b",
   "metadata": {
    "_kg_hide-output": true,
    "execution": {
     "iopub.execute_input": "2025-10-29T14:09:29.345421Z",
     "iopub.status.busy": "2025-10-29T14:09:29.345211Z",
     "iopub.status.idle": "2025-10-29T14:24:43.184566Z",
     "shell.execute_reply": "2025-10-29T14:24:43.183667Z"
    },
    "papermill": {
     "duration": 913.848534,
     "end_time": "2025-10-29T14:24:43.189365",
     "exception": false,
     "start_time": "2025-10-29T14:09:29.340831",
     "status": "completed"
    },
    "tags": []
   },
   "outputs": [
    {
     "name": "stderr",
     "output_type": "stream",
     "text": [
      "No path specified. Models will be saved in: \"AutogluonModels/ag-20251029_140929\"\n",
      "2025-10-29 14:09:31,505\tINFO worker.py:1843 -- Started a local Ray instance. View the dashboard at \u001b[1m\u001b[32mhttp://127.0.0.1:8265 \u001b[39m\u001b[22m\n",
      "<frozen importlib._bootstrap>:241: RuntimeWarning: pyarrow.lib.ChunkedArray size changed, may indicate binary incompatibility. Expected 64 from C header, got 72 from PyObject\n",
      "<frozen importlib._bootstrap>:241: RuntimeWarning: pyarrow.lib._Tabular size changed, may indicate binary incompatibility. Expected 24 from C header, got 32 from PyObject\n",
      "<frozen importlib._bootstrap>:241: RuntimeWarning: pyarrow.lib.Table size changed, may indicate binary incompatibility. Expected 56 from C header, got 64 from PyObject\n"
     ]
    },
    {
     "name": "stdout",
     "output_type": "stream",
     "text": [
      "CPU times: user 8.65 s, sys: 2.19 s, total: 10.8 s\n",
      "Wall time: 15min 13s\n"
     ]
    }
   ],
   "source": [
    "%%time\n",
    "predictor = TabularPredictor(\n",
    "    label=target, \n",
    "    eval_metric=eval_metric,\n",
    "    verbosity=1,\n",
    "    problem_type=problem_type\n",
    ").fit(\n",
    "    train_data, \n",
    "    presets='best_quality',\n",
    "    excluded_model_types=['KNN'], \n",
    "    time_limit=Time_limit,\n",
    "    #dynamic_stacking=False,  # ← ADD THIS\n",
    "    #ag_args_fit={'num_gpus': 1}\n",
    ")"
   ]
  },
  {
   "cell_type": "code",
   "execution_count": 15,
   "id": "4f2d49f9",
   "metadata": {
    "_kg_hide-output": true,
    "execution": {
     "iopub.execute_input": "2025-10-29T14:24:43.199321Z",
     "iopub.status.busy": "2025-10-29T14:24:43.198614Z",
     "iopub.status.idle": "2025-10-29T14:24:43.214724Z",
     "shell.execute_reply": "2025-10-29T14:24:43.214158Z"
    },
    "papermill": {
     "duration": 0.022036,
     "end_time": "2025-10-29T14:24:43.215692",
     "exception": false,
     "start_time": "2025-10-29T14:24:43.193656",
     "status": "completed"
    },
    "scrolled": true,
    "tags": []
   },
   "outputs": [
    {
     "name": "stdout",
     "output_type": "stream",
     "text": [
      "CPU times: user 4.83 ms, sys: 0 ns, total: 4.83 ms\n",
      "Wall time: 4.46 ms\n"
     ]
    },
    {
     "data": {
      "text/html": [
       "<div>\n",
       "<style scoped>\n",
       "    .dataframe tbody tr th:only-of-type {\n",
       "        vertical-align: middle;\n",
       "    }\n",
       "\n",
       "    .dataframe tbody tr th {\n",
       "        vertical-align: top;\n",
       "    }\n",
       "\n",
       "    .dataframe thead th {\n",
       "        text-align: right;\n",
       "    }\n",
       "</style>\n",
       "<table border=\"1\" class=\"dataframe\">\n",
       "  <thead>\n",
       "    <tr style=\"text-align: right;\">\n",
       "      <th></th>\n",
       "      <th>model</th>\n",
       "      <th>score_val</th>\n",
       "      <th>eval_metric</th>\n",
       "      <th>pred_time_val</th>\n",
       "      <th>fit_time</th>\n",
       "      <th>pred_time_val_marginal</th>\n",
       "      <th>fit_time_marginal</th>\n",
       "      <th>stack_level</th>\n",
       "      <th>can_infer</th>\n",
       "      <th>fit_order</th>\n",
       "    </tr>\n",
       "  </thead>\n",
       "  <tbody>\n",
       "    <tr>\n",
       "      <th>0</th>\n",
       "      <td>WeightedEnsemble_L3</td>\n",
       "      <td>-0.056093</td>\n",
       "      <td>root_mean_squared_error</td>\n",
       "      <td>243.281431</td>\n",
       "      <td>586.527507</td>\n",
       "      <td>0.009752</td>\n",
       "      <td>0.406842</td>\n",
       "      <td>3</td>\n",
       "      <td>True</td>\n",
       "      <td>6</td>\n",
       "    </tr>\n",
       "    <tr>\n",
       "      <th>1</th>\n",
       "      <td>WeightedEnsemble_L2</td>\n",
       "      <td>-0.056109</td>\n",
       "      <td>root_mean_squared_error</td>\n",
       "      <td>161.095448</td>\n",
       "      <td>402.303782</td>\n",
       "      <td>0.010284</td>\n",
       "      <td>0.246453</td>\n",
       "      <td>2</td>\n",
       "      <td>True</td>\n",
       "      <td>3</td>\n",
       "    </tr>\n",
       "    <tr>\n",
       "      <th>2</th>\n",
       "      <td>LightGBM_BAG_L1</td>\n",
       "      <td>-0.056113</td>\n",
       "      <td>root_mean_squared_error</td>\n",
       "      <td>22.616402</td>\n",
       "      <td>56.052748</td>\n",
       "      <td>22.616402</td>\n",
       "      <td>56.052748</td>\n",
       "      <td>1</td>\n",
       "      <td>True</td>\n",
       "      <td>2</td>\n",
       "    </tr>\n",
       "    <tr>\n",
       "      <th>3</th>\n",
       "      <td>LightGBMXT_BAG_L2</td>\n",
       "      <td>-0.056198</td>\n",
       "      <td>root_mean_squared_error</td>\n",
       "      <td>243.271679</td>\n",
       "      <td>586.120665</td>\n",
       "      <td>82.186516</td>\n",
       "      <td>184.063336</td>\n",
       "      <td>2</td>\n",
       "      <td>True</td>\n",
       "      <td>4</td>\n",
       "    </tr>\n",
       "    <tr>\n",
       "      <th>4</th>\n",
       "      <td>LightGBMXT_BAG_L1</td>\n",
       "      <td>-0.056396</td>\n",
       "      <td>root_mean_squared_error</td>\n",
       "      <td>138.468761</td>\n",
       "      <td>346.004580</td>\n",
       "      <td>138.468761</td>\n",
       "      <td>346.004580</td>\n",
       "      <td>1</td>\n",
       "      <td>True</td>\n",
       "      <td>1</td>\n",
       "    </tr>\n",
       "    <tr>\n",
       "      <th>5</th>\n",
       "      <td>LightGBM_BAG_L2</td>\n",
       "      <td>-0.079596</td>\n",
       "      <td>root_mean_squared_error</td>\n",
       "      <td>161.854743</td>\n",
       "      <td>417.565407</td>\n",
       "      <td>0.769580</td>\n",
       "      <td>15.508078</td>\n",
       "      <td>2</td>\n",
       "      <td>True</td>\n",
       "      <td>5</td>\n",
       "    </tr>\n",
       "  </tbody>\n",
       "</table>\n",
       "</div>"
      ],
      "text/plain": [
       "                 model  score_val              eval_metric  pred_time_val  \\\n",
       "0  WeightedEnsemble_L3  -0.056093  root_mean_squared_error     243.281431   \n",
       "1  WeightedEnsemble_L2  -0.056109  root_mean_squared_error     161.095448   \n",
       "2      LightGBM_BAG_L1  -0.056113  root_mean_squared_error      22.616402   \n",
       "3    LightGBMXT_BAG_L2  -0.056198  root_mean_squared_error     243.271679   \n",
       "4    LightGBMXT_BAG_L1  -0.056396  root_mean_squared_error     138.468761   \n",
       "5      LightGBM_BAG_L2  -0.079596  root_mean_squared_error     161.854743   \n",
       "\n",
       "     fit_time  pred_time_val_marginal  fit_time_marginal  stack_level  \\\n",
       "0  586.527507                0.009752           0.406842            3   \n",
       "1  402.303782                0.010284           0.246453            2   \n",
       "2   56.052748               22.616402          56.052748            1   \n",
       "3  586.120665               82.186516         184.063336            2   \n",
       "4  346.004580              138.468761         346.004580            1   \n",
       "5  417.565407                0.769580          15.508078            2   \n",
       "\n",
       "   can_infer  fit_order  \n",
       "0       True          6  \n",
       "1       True          3  \n",
       "2       True          2  \n",
       "3       True          4  \n",
       "4       True          1  \n",
       "5       True          5  "
      ]
     },
     "execution_count": 15,
     "metadata": {},
     "output_type": "execute_result"
    }
   ],
   "source": [
    "%%time\n",
    "predictor.leaderboard()"
   ]
  },
  {
   "cell_type": "code",
   "execution_count": 16,
   "id": "5d80c523",
   "metadata": {
    "execution": {
     "iopub.execute_input": "2025-10-29T14:24:43.225318Z",
     "iopub.status.busy": "2025-10-29T14:24:43.225100Z",
     "iopub.status.idle": "2025-10-29T14:27:15.091044Z",
     "shell.execute_reply": "2025-10-29T14:27:15.090217Z"
    },
    "papermill": {
     "duration": 151.877773,
     "end_time": "2025-10-29T14:27:15.097950",
     "exception": false,
     "start_time": "2025-10-29T14:24:43.220177",
     "status": "completed"
    },
    "tags": []
   },
   "outputs": [
    {
     "name": "stderr",
     "output_type": "stream",
     "text": [
      "<frozen importlib._bootstrap>:241: RuntimeWarning: pyarrow.lib.ChunkedArray size changed, may indicate binary incompatibility. Expected 64 from C header, got 72 from PyObject\n",
      "<frozen importlib._bootstrap>:241: RuntimeWarning: pyarrow.lib._Tabular size changed, may indicate binary incompatibility. Expected 24 from C header, got 32 from PyObject\n",
      "<frozen importlib._bootstrap>:241: RuntimeWarning: pyarrow.lib.Table size changed, may indicate binary incompatibility. Expected 56 from C header, got 64 from PyObject\n"
     ]
    },
    {
     "name": "stdout",
     "output_type": "stream",
     "text": [
      "CPU times: user 9min 39s, sys: 741 ms, total: 9min 40s\n",
      "Wall time: 2min 31s\n"
     ]
    }
   ],
   "source": [
    "%%time\n",
    "autogluon_preds = predictor.predict(test_df)"
   ]
  },
  {
   "cell_type": "code",
   "execution_count": 17,
   "id": "ee2186ce",
   "metadata": {
    "execution": {
     "iopub.execute_input": "2025-10-29T14:27:15.108690Z",
     "iopub.status.busy": "2025-10-29T14:27:15.107957Z",
     "iopub.status.idle": "2025-10-29T14:27:15.114983Z",
     "shell.execute_reply": "2025-10-29T14:27:15.114290Z"
    },
    "papermill": {
     "duration": 0.013354,
     "end_time": "2025-10-29T14:27:15.116118",
     "exception": false,
     "start_time": "2025-10-29T14:27:15.102764",
     "status": "completed"
    },
    "tags": []
   },
   "outputs": [
    {
     "data": {
      "text/plain": [
       "id\n",
       "517754    0.291877\n",
       "517755    0.123233\n",
       "517756    0.186070\n",
       "517757    0.315781\n",
       "517758    0.408646\n",
       "            ...   \n",
       "690334    0.108629\n",
       "690335    0.518754\n",
       "690336    0.247781\n",
       "690337    0.128191\n",
       "690338    0.485898\n",
       "Name: accident_risk, Length: 172585, dtype: float32"
      ]
     },
     "execution_count": 17,
     "metadata": {},
     "output_type": "execute_result"
    }
   ],
   "source": [
    "autogluon_preds"
   ]
  },
  {
   "cell_type": "code",
   "execution_count": 18,
   "id": "779c2c35",
   "metadata": {
    "execution": {
     "iopub.execute_input": "2025-10-29T14:27:15.126071Z",
     "iopub.status.busy": "2025-10-29T14:27:15.125839Z",
     "iopub.status.idle": "2025-10-29T14:27:15.580947Z",
     "shell.execute_reply": "2025-10-29T14:27:15.580201Z"
    },
    "papermill": {
     "duration": 0.461495,
     "end_time": "2025-10-29T14:27:15.582134",
     "exception": false,
     "start_time": "2025-10-29T14:27:15.120639",
     "status": "completed"
    },
    "tags": []
   },
   "outputs": [
    {
     "name": "stdout",
     "output_type": "stream",
     "text": [
      "rm: cannot remove 'submission.csv': No such file or directory\r\n"
     ]
    },
    {
     "data": {
      "text/html": [
       "<div>\n",
       "<style scoped>\n",
       "    .dataframe tbody tr th:only-of-type {\n",
       "        vertical-align: middle;\n",
       "    }\n",
       "\n",
       "    .dataframe tbody tr th {\n",
       "        vertical-align: top;\n",
       "    }\n",
       "\n",
       "    .dataframe thead th {\n",
       "        text-align: right;\n",
       "    }\n",
       "</style>\n",
       "<table border=\"1\" class=\"dataframe\">\n",
       "  <thead>\n",
       "    <tr style=\"text-align: right;\">\n",
       "      <th></th>\n",
       "      <th>id</th>\n",
       "      <th>accident_risk</th>\n",
       "    </tr>\n",
       "  </thead>\n",
       "  <tbody>\n",
       "    <tr>\n",
       "      <th>0</th>\n",
       "      <td>517754</td>\n",
       "      <td>0.291877</td>\n",
       "    </tr>\n",
       "    <tr>\n",
       "      <th>1</th>\n",
       "      <td>517755</td>\n",
       "      <td>0.123233</td>\n",
       "    </tr>\n",
       "    <tr>\n",
       "      <th>2</th>\n",
       "      <td>517756</td>\n",
       "      <td>0.186070</td>\n",
       "    </tr>\n",
       "    <tr>\n",
       "      <th>3</th>\n",
       "      <td>517757</td>\n",
       "      <td>0.315781</td>\n",
       "    </tr>\n",
       "    <tr>\n",
       "      <th>4</th>\n",
       "      <td>517758</td>\n",
       "      <td>0.408646</td>\n",
       "    </tr>\n",
       "  </tbody>\n",
       "</table>\n",
       "</div>"
      ],
      "text/plain": [
       "       id  accident_risk\n",
       "0  517754       0.291877\n",
       "1  517755       0.123233\n",
       "2  517756       0.186070\n",
       "3  517757       0.315781\n",
       "4  517758       0.408646"
      ]
     },
     "execution_count": 18,
     "metadata": {},
     "output_type": "execute_result"
    }
   ],
   "source": [
    "!rm submission.csv\n",
    "sub_df['accident_risk'] = autogluon_preds.values\n",
    "sub_df.to_csv('submission.csv', index=False)\n",
    "sub_df.head()"
   ]
  },
  {
   "cell_type": "code",
   "execution_count": null,
   "id": "d82667a2",
   "metadata": {
    "papermill": {
     "duration": 0.004815,
     "end_time": "2025-10-29T14:27:15.591933",
     "exception": false,
     "start_time": "2025-10-29T14:27:15.587118",
     "status": "completed"
    },
    "tags": []
   },
   "outputs": [],
   "source": []
  },
  {
   "cell_type": "code",
   "execution_count": null,
   "id": "5a17e57c",
   "metadata": {
    "papermill": {
     "duration": 0.004684,
     "end_time": "2025-10-29T14:27:15.601421",
     "exception": false,
     "start_time": "2025-10-29T14:27:15.596737",
     "status": "completed"
    },
    "tags": []
   },
   "outputs": [],
   "source": []
  },
  {
   "cell_type": "code",
   "execution_count": null,
   "id": "386b62c9",
   "metadata": {
    "papermill": {
     "duration": 0.004596,
     "end_time": "2025-10-29T14:27:15.610771",
     "exception": false,
     "start_time": "2025-10-29T14:27:15.606175",
     "status": "completed"
    },
    "tags": []
   },
   "outputs": [],
   "source": []
  },
  {
   "cell_type": "code",
   "execution_count": null,
   "id": "f0addd6f",
   "metadata": {
    "papermill": {
     "duration": 0.004713,
     "end_time": "2025-10-29T14:27:15.622974",
     "exception": false,
     "start_time": "2025-10-29T14:27:15.618261",
     "status": "completed"
    },
    "tags": []
   },
   "outputs": [],
   "source": []
  },
  {
   "cell_type": "code",
   "execution_count": null,
   "id": "3c253199",
   "metadata": {
    "papermill": {
     "duration": 0.004472,
     "end_time": "2025-10-29T14:27:15.632076",
     "exception": false,
     "start_time": "2025-10-29T14:27:15.627604",
     "status": "completed"
    },
    "tags": []
   },
   "outputs": [],
   "source": []
  },
  {
   "cell_type": "code",
   "execution_count": null,
   "id": "0d18c3e0",
   "metadata": {
    "papermill": {
     "duration": 0.004796,
     "end_time": "2025-10-29T14:27:15.641470",
     "exception": false,
     "start_time": "2025-10-29T14:27:15.636674",
     "status": "completed"
    },
    "tags": []
   },
   "outputs": [],
   "source": []
  },
  {
   "cell_type": "code",
   "execution_count": null,
   "id": "db0da7b8",
   "metadata": {
    "papermill": {
     "duration": 0.004847,
     "end_time": "2025-10-29T14:27:15.651157",
     "exception": false,
     "start_time": "2025-10-29T14:27:15.646310",
     "status": "completed"
    },
    "tags": []
   },
   "outputs": [],
   "source": []
  },
  {
   "cell_type": "code",
   "execution_count": null,
   "id": "e8ae1554",
   "metadata": {
    "papermill": {
     "duration": 0.004731,
     "end_time": "2025-10-29T14:27:15.660445",
     "exception": false,
     "start_time": "2025-10-29T14:27:15.655714",
     "status": "completed"
    },
    "tags": []
   },
   "outputs": [],
   "source": []
  }
 ],
 "metadata": {
  "kaggle": {
   "accelerator": "gpu",
   "dataSources": [
    {
     "databundleVersionId": 13760552,
     "sourceId": 91721,
     "sourceType": "competition"
    },
    {
     "datasetId": 7797612,
     "sourceId": 12367739,
     "sourceType": "datasetVersion"
    }
   ],
   "dockerImageVersionId": 31154,
   "isGpuEnabled": true,
   "isInternetEnabled": true,
   "language": "python",
   "sourceType": "notebook"
  },
  "kernelspec": {
   "display_name": "Python 3",
   "language": "python",
   "name": "python3"
  },
  "language_info": {
   "codemirror_mode": {
    "name": "ipython",
    "version": 3
   },
   "file_extension": ".py",
   "mimetype": "text/x-python",
   "name": "python",
   "nbconvert_exporter": "python",
   "pygments_lexer": "ipython3",
   "version": "3.11.13"
  },
  "papermill": {
   "default_parameters": {},
   "duration": 1110.481037,
   "end_time": "2025-10-29T14:27:20.783837",
   "environment_variables": {},
   "exception": null,
   "input_path": "__notebook__.ipynb",
   "output_path": "__notebook__.ipynb",
   "parameters": {},
   "start_time": "2025-10-29T14:08:50.302800",
   "version": "2.6.0"
  }
 },
 "nbformat": 4,
 "nbformat_minor": 5
}
