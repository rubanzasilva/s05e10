{
 "cells": [
  {
   "cell_type": "code",
   "execution_count": 1,
   "id": "f595b78a",
   "metadata": {
    "_cell_guid": "b1076dfc-b9ad-4769-8c92-a6c4dae69d19",
    "_kg_hide-output": true,
    "_uuid": "8f2839f25d086af736a60e9eeb907d3b93b6e0e5",
    "execution": {
     "iopub.execute_input": "2025-10-31T04:09:35.519768Z",
     "iopub.status.busy": "2025-10-31T04:09:35.519445Z",
     "iopub.status.idle": "2025-10-31T04:09:37.483180Z",
     "shell.execute_reply": "2025-10-31T04:09:37.481976Z"
    },
    "papermill": {
     "duration": 1.971948,
     "end_time": "2025-10-31T04:09:37.484613",
     "exception": false,
     "start_time": "2025-10-31T04:09:35.512665",
     "status": "completed"
    },
    "tags": []
   },
   "outputs": [
    {
     "name": "stdout",
     "output_type": "stream",
     "text": [
      "/kaggle/input/simulated-roads-accident-data/synthetic_road_accidents_10k.csv\n",
      "/kaggle/input/simulated-roads-accident-data/synthetic_road_accidents_2k.csv\n",
      "/kaggle/input/simulated-roads-accident-data/synthetic_road_accidents_100k.csv\n",
      "/kaggle/input/playground-series-s5e10/sample_submission.csv\n",
      "/kaggle/input/playground-series-s5e10/train.csv\n",
      "/kaggle/input/playground-series-s5e10/test.csv\n"
     ]
    }
   ],
   "source": [
    "# This Python 3 environment comes with many helpful analytics libraries installed\n",
    "# It is defined by the kaggle/python Docker image: https://github.com/kaggle/docker-python\n",
    "# For example, here's several helpful packages to load\n",
    "\n",
    "import numpy as np # linear algebra\n",
    "import pandas as pd # data processing, CSV file I/O (e.g. pd.read_csv)\n",
    "\n",
    "# Input data files are available in the read-only \"../input/\" directory\n",
    "# For example, running this (by clicking run or pressing Shift+Enter) will list all files under the input directory\n",
    "\n",
    "import os\n",
    "for dirname, _, filenames in os.walk('/kaggle/input'):\n",
    "    for filename in filenames:\n",
    "        print(os.path.join(dirname, filename))\n",
    "\n",
    "# You can write up to 20GB to the current directory (/kaggle/working/) that gets preserved as output when you create a version using \"Save & Run All\" \n",
    "# You can also write temporary files to /kaggle/temp/, but they won't be saved outside of the current session"
   ]
  },
  {
   "cell_type": "code",
   "execution_count": 2,
   "id": "a0e828c5",
   "metadata": {
    "_kg_hide-input": true,
    "_kg_hide-output": true,
    "execution": {
     "iopub.execute_input": "2025-10-31T04:09:37.496945Z",
     "iopub.status.busy": "2025-10-31T04:09:37.495934Z",
     "iopub.status.idle": "2025-10-31T04:09:37.500435Z",
     "shell.execute_reply": "2025-10-31T04:09:37.499540Z"
    },
    "papermill": {
     "duration": 0.012257,
     "end_time": "2025-10-31T04:09:37.501873",
     "exception": false,
     "start_time": "2025-10-31T04:09:37.489616",
     "status": "completed"
    },
    "scrolled": true,
    "tags": []
   },
   "outputs": [],
   "source": [
    "#!uv pip install -U autogluon > /dev/null\n",
    "#!uv pip install -U autogluon > /dev/null"
   ]
  },
  {
   "cell_type": "code",
   "execution_count": 3,
   "id": "150ba843",
   "metadata": {
    "execution": {
     "iopub.execute_input": "2025-10-31T04:09:37.512773Z",
     "iopub.status.busy": "2025-10-31T04:09:37.512463Z",
     "iopub.status.idle": "2025-10-31T04:09:37.516458Z",
     "shell.execute_reply": "2025-10-31T04:09:37.515736Z"
    },
    "papermill": {
     "duration": 0.010962,
     "end_time": "2025-10-31T04:09:37.517782",
     "exception": false,
     "start_time": "2025-10-31T04:09:37.506820",
     "status": "completed"
    },
    "tags": []
   },
   "outputs": [],
   "source": [
    "#!pip uninstall pyarrow -y\n",
    "#!pip install pyarrow==17.0.0"
   ]
  },
  {
   "cell_type": "code",
   "execution_count": 4,
   "id": "83efc785",
   "metadata": {
    "execution": {
     "iopub.execute_input": "2025-10-31T04:09:37.528897Z",
     "iopub.status.busy": "2025-10-31T04:09:37.528560Z",
     "iopub.status.idle": "2025-10-31T04:09:37.532736Z",
     "shell.execute_reply": "2025-10-31T04:09:37.531910Z"
    },
    "papermill": {
     "duration": 0.011588,
     "end_time": "2025-10-31T04:09:37.534219",
     "exception": false,
     "start_time": "2025-10-31T04:09:37.522631",
     "status": "completed"
    },
    "scrolled": true,
    "tags": []
   },
   "outputs": [],
   "source": [
    "#!uv pip install -U autogluon > /dev/null\n",
    "#!uv pip install autogluon > /dev/null"
   ]
  },
  {
   "cell_type": "code",
   "execution_count": 5,
   "id": "1289cb52",
   "metadata": {
    "execution": {
     "iopub.execute_input": "2025-10-31T04:09:37.545821Z",
     "iopub.status.busy": "2025-10-31T04:09:37.544976Z",
     "iopub.status.idle": "2025-10-31T04:10:08.998759Z",
     "shell.execute_reply": "2025-10-31T04:10:08.997719Z"
    },
    "papermill": {
     "duration": 31.466206,
     "end_time": "2025-10-31T04:10:09.005282",
     "exception": false,
     "start_time": "2025-10-31T04:09:37.539076",
     "status": "completed"
    },
    "tags": []
   },
   "outputs": [
    {
     "name": "stdout",
     "output_type": "stream",
     "text": [
      "Installing dependencies with uv...\n",
      "Clearing module cache...\n",
      "✓ Cleared 422 modules from cache\n",
      "✓ Setup complete!\n"
     ]
    }
   ],
   "source": [
    "# ===== CELL 1: Complete Setup with Module Cache Clearing =====\n",
    "import sys\n",
    "import subprocess\n",
    "\n",
    "print(\"Installing dependencies with uv...\")\n",
    "\n",
    "# Install compatible versions\n",
    "subprocess.check_call([\"uv\", \"pip\", \"install\", \"--quiet\", \"pyarrow==17.0.0\"])\n",
    "subprocess.check_call([\"uv\", \"pip\", \"install\", \"--quiet\", \"autogluon\"])\n",
    "\n",
    "# CRITICAL: Clear ALL relevant modules from cache\n",
    "print(\"Clearing module cache...\")\n",
    "modules_to_clear = []\n",
    "for module in list(sys.modules.keys()):\n",
    "    # Clear data science stack modules that might conflict\n",
    "    if any(pkg in module.lower() for pkg in ['pandas', 'numpy', 'pyarrow', 'ray', 'sklearn', 'scipy']):\n",
    "        modules_to_clear.append(module)\n",
    "\n",
    "for module in modules_to_clear:\n",
    "    del sys.modules[module]\n",
    "\n",
    "print(f\"✓ Cleared {len(modules_to_clear)} modules from cache\")\n",
    "print(\"✓ Setup complete!\")"
   ]
  },
  {
   "cell_type": "code",
   "execution_count": 6,
   "id": "12fca9ca",
   "metadata": {
    "execution": {
     "iopub.execute_input": "2025-10-31T04:10:09.016915Z",
     "iopub.status.busy": "2025-10-31T04:10:09.015983Z",
     "iopub.status.idle": "2025-10-31T04:10:14.216375Z",
     "shell.execute_reply": "2025-10-31T04:10:14.215326Z"
    },
    "papermill": {
     "duration": 5.207832,
     "end_time": "2025-10-31T04:10:14.218016",
     "exception": false,
     "start_time": "2025-10-31T04:10:09.010184",
     "status": "completed"
    },
    "tags": []
   },
   "outputs": [
    {
     "name": "stderr",
     "output_type": "stream",
     "text": [
      "/usr/local/lib/python3.11/dist-packages/pandas/__init__.py:14: UserWarning: The NumPy module was reloaded (imported a second time). This can in some cases result in small but subtle issues and is discouraged.\n",
      "  __import__(_dependency)\n"
     ]
    },
    {
     "name": "stdout",
     "output_type": "stream",
     "text": [
      "AutoGluon version: autogluon.tabular.predictor.predictor\n",
      "Ray version: 2.44.1\n",
      "PyArrow version: 17.0.0\n",
      "\n",
      "✓ All versions verified correctly!\n"
     ]
    }
   ],
   "source": [
    "# ===== CELL 2: Imports and Verification =====\n",
    "import pandas as pd\n",
    "import pyarrow\n",
    "import ray\n",
    "from autogluon.tabular import TabularPredictor\n",
    "\n",
    "print(f\"AutoGluon version: {TabularPredictor.__module__}\")\n",
    "print(f\"Ray version: {ray.__version__}\")\n",
    "print(f\"PyArrow version: {pyarrow.__version__}\")\n",
    "\n",
    "assert pyarrow.__version__.startswith('17.'), \"PyArrow version check failed!\"\n",
    "print(\"\\n✓ All versions verified correctly!\")"
   ]
  },
  {
   "cell_type": "code",
   "execution_count": 7,
   "id": "6c9890d0",
   "metadata": {
    "execution": {
     "iopub.execute_input": "2025-10-31T04:10:14.230239Z",
     "iopub.status.busy": "2025-10-31T04:10:14.229646Z",
     "iopub.status.idle": "2025-10-31T04:10:14.234946Z",
     "shell.execute_reply": "2025-10-31T04:10:14.233982Z"
    },
    "papermill": {
     "duration": 0.012882,
     "end_time": "2025-10-31T04:10:14.236440",
     "exception": false,
     "start_time": "2025-10-31T04:10:14.223558",
     "status": "completed"
    },
    "scrolled": true,
    "tags": []
   },
   "outputs": [],
   "source": [
    "from autogluon.tabular import TabularDataset, TabularPredictor\n",
    "from pathlib import Path\n",
    "import numpy as np # linear algebra\n",
    "import pandas as pd "
   ]
  },
  {
   "cell_type": "code",
   "execution_count": 8,
   "id": "fedb3312",
   "metadata": {
    "execution": {
     "iopub.execute_input": "2025-10-31T04:10:14.248656Z",
     "iopub.status.busy": "2025-10-31T04:10:14.247731Z",
     "iopub.status.idle": "2025-10-31T04:10:14.254753Z",
     "shell.execute_reply": "2025-10-31T04:10:14.253765Z"
    },
    "papermill": {
     "duration": 0.014466,
     "end_time": "2025-10-31T04:10:14.256228",
     "exception": false,
     "start_time": "2025-10-31T04:10:14.241762",
     "status": "completed"
    },
    "tags": []
   },
   "outputs": [
    {
     "data": {
      "text/plain": [
       "PosixPath('/kaggle/input/playground-series-s5e10')"
      ]
     },
     "execution_count": 8,
     "metadata": {},
     "output_type": "execute_result"
    }
   ],
   "source": [
    "path = Path('/kaggle/input/playground-series-s5e10/')\n",
    "path"
   ]
  },
  {
   "cell_type": "code",
   "execution_count": 9,
   "id": "f5dfd4cc",
   "metadata": {
    "execution": {
     "iopub.execute_input": "2025-10-31T04:10:14.314504Z",
     "iopub.status.busy": "2025-10-31T04:10:14.313761Z",
     "iopub.status.idle": "2025-10-31T04:10:16.113824Z",
     "shell.execute_reply": "2025-10-31T04:10:16.112992Z"
    },
    "papermill": {
     "duration": 1.854147,
     "end_time": "2025-10-31T04:10:16.115623",
     "exception": false,
     "start_time": "2025-10-31T04:10:14.261476",
     "status": "completed"
    },
    "tags": []
   },
   "outputs": [],
   "source": [
    "train_df = pd.read_csv(path/'train.csv',index_col='id')\n",
    "test_df = pd.read_csv(path/'test.csv',index_col='id')\n",
    "sub_df = pd.read_csv(path/'sample_submission.csv')\n",
    "og_df_a = pd.read_csv('/kaggle/input/simulated-roads-accident-data/synthetic_road_accidents_100k.csv')"
   ]
  },
  {
   "cell_type": "code",
   "execution_count": 10,
   "id": "3a1ba189",
   "metadata": {
    "execution": {
     "iopub.execute_input": "2025-10-31T04:10:16.127660Z",
     "iopub.status.busy": "2025-10-31T04:10:16.127321Z",
     "iopub.status.idle": "2025-10-31T04:10:16.133381Z",
     "shell.execute_reply": "2025-10-31T04:10:16.132531Z"
    },
    "papermill": {
     "duration": 0.013516,
     "end_time": "2025-10-31T04:10:16.134782",
     "exception": false,
     "start_time": "2025-10-31T04:10:16.121266",
     "status": "completed"
    },
    "tags": []
   },
   "outputs": [
    {
     "data": {
      "text/plain": [
       "((517754, 13), (100000, 13))"
      ]
     },
     "execution_count": 10,
     "metadata": {},
     "output_type": "execute_result"
    }
   ],
   "source": [
    "train_df.shape,og_df_a.shape"
   ]
  },
  {
   "cell_type": "code",
   "execution_count": 11,
   "id": "04fa293c",
   "metadata": {
    "execution": {
     "iopub.execute_input": "2025-10-31T04:10:16.148137Z",
     "iopub.status.busy": "2025-10-31T04:10:16.146910Z",
     "iopub.status.idle": "2025-10-31T04:10:16.225576Z",
     "shell.execute_reply": "2025-10-31T04:10:16.224583Z"
    },
    "papermill": {
     "duration": 0.08662,
     "end_time": "2025-10-31T04:10:16.227146",
     "exception": false,
     "start_time": "2025-10-31T04:10:16.140526",
     "status": "completed"
    },
    "tags": []
   },
   "outputs": [
    {
     "data": {
      "text/html": [
       "<div>\n",
       "<style scoped>\n",
       "    .dataframe tbody tr th:only-of-type {\n",
       "        vertical-align: middle;\n",
       "    }\n",
       "\n",
       "    .dataframe tbody tr th {\n",
       "        vertical-align: top;\n",
       "    }\n",
       "\n",
       "    .dataframe thead th {\n",
       "        text-align: right;\n",
       "    }\n",
       "</style>\n",
       "<table border=\"1\" class=\"dataframe\">\n",
       "  <thead>\n",
       "    <tr style=\"text-align: right;\">\n",
       "      <th></th>\n",
       "      <th>road_type</th>\n",
       "      <th>num_lanes</th>\n",
       "      <th>curvature</th>\n",
       "      <th>speed_limit</th>\n",
       "      <th>lighting</th>\n",
       "      <th>weather</th>\n",
       "      <th>road_signs_present</th>\n",
       "      <th>public_road</th>\n",
       "      <th>time_of_day</th>\n",
       "      <th>holiday</th>\n",
       "      <th>school_season</th>\n",
       "      <th>num_reported_accidents</th>\n",
       "      <th>accident_risk</th>\n",
       "    </tr>\n",
       "  </thead>\n",
       "  <tbody>\n",
       "    <tr>\n",
       "      <th>0</th>\n",
       "      <td>urban</td>\n",
       "      <td>2</td>\n",
       "      <td>0.06</td>\n",
       "      <td>35</td>\n",
       "      <td>daylight</td>\n",
       "      <td>rainy</td>\n",
       "      <td>False</td>\n",
       "      <td>True</td>\n",
       "      <td>afternoon</td>\n",
       "      <td>False</td>\n",
       "      <td>True</td>\n",
       "      <td>1</td>\n",
       "      <td>0.13</td>\n",
       "    </tr>\n",
       "    <tr>\n",
       "      <th>1</th>\n",
       "      <td>urban</td>\n",
       "      <td>4</td>\n",
       "      <td>0.99</td>\n",
       "      <td>35</td>\n",
       "      <td>daylight</td>\n",
       "      <td>clear</td>\n",
       "      <td>True</td>\n",
       "      <td>False</td>\n",
       "      <td>evening</td>\n",
       "      <td>True</td>\n",
       "      <td>True</td>\n",
       "      <td>0</td>\n",
       "      <td>0.35</td>\n",
       "    </tr>\n",
       "    <tr>\n",
       "      <th>2</th>\n",
       "      <td>rural</td>\n",
       "      <td>4</td>\n",
       "      <td>0.63</td>\n",
       "      <td>70</td>\n",
       "      <td>dim</td>\n",
       "      <td>clear</td>\n",
       "      <td>False</td>\n",
       "      <td>True</td>\n",
       "      <td>morning</td>\n",
       "      <td>True</td>\n",
       "      <td>False</td>\n",
       "      <td>2</td>\n",
       "      <td>0.30</td>\n",
       "    </tr>\n",
       "    <tr>\n",
       "      <th>3</th>\n",
       "      <td>highway</td>\n",
       "      <td>4</td>\n",
       "      <td>0.07</td>\n",
       "      <td>35</td>\n",
       "      <td>dim</td>\n",
       "      <td>rainy</td>\n",
       "      <td>True</td>\n",
       "      <td>True</td>\n",
       "      <td>morning</td>\n",
       "      <td>False</td>\n",
       "      <td>False</td>\n",
       "      <td>1</td>\n",
       "      <td>0.21</td>\n",
       "    </tr>\n",
       "    <tr>\n",
       "      <th>4</th>\n",
       "      <td>rural</td>\n",
       "      <td>1</td>\n",
       "      <td>0.58</td>\n",
       "      <td>60</td>\n",
       "      <td>daylight</td>\n",
       "      <td>foggy</td>\n",
       "      <td>False</td>\n",
       "      <td>False</td>\n",
       "      <td>evening</td>\n",
       "      <td>True</td>\n",
       "      <td>False</td>\n",
       "      <td>1</td>\n",
       "      <td>0.56</td>\n",
       "    </tr>\n",
       "    <tr>\n",
       "      <th>...</th>\n",
       "      <td>...</td>\n",
       "      <td>...</td>\n",
       "      <td>...</td>\n",
       "      <td>...</td>\n",
       "      <td>...</td>\n",
       "      <td>...</td>\n",
       "      <td>...</td>\n",
       "      <td>...</td>\n",
       "      <td>...</td>\n",
       "      <td>...</td>\n",
       "      <td>...</td>\n",
       "      <td>...</td>\n",
       "      <td>...</td>\n",
       "    </tr>\n",
       "    <tr>\n",
       "      <th>617749</th>\n",
       "      <td>rural</td>\n",
       "      <td>2</td>\n",
       "      <td>0.61</td>\n",
       "      <td>60</td>\n",
       "      <td>dim</td>\n",
       "      <td>foggy</td>\n",
       "      <td>False</td>\n",
       "      <td>True</td>\n",
       "      <td>evening</td>\n",
       "      <td>False</td>\n",
       "      <td>False</td>\n",
       "      <td>1</td>\n",
       "      <td>0.54</td>\n",
       "    </tr>\n",
       "    <tr>\n",
       "      <th>617750</th>\n",
       "      <td>rural</td>\n",
       "      <td>2</td>\n",
       "      <td>0.52</td>\n",
       "      <td>35</td>\n",
       "      <td>dim</td>\n",
       "      <td>foggy</td>\n",
       "      <td>True</td>\n",
       "      <td>True</td>\n",
       "      <td>afternoon</td>\n",
       "      <td>False</td>\n",
       "      <td>False</td>\n",
       "      <td>1</td>\n",
       "      <td>0.18</td>\n",
       "    </tr>\n",
       "    <tr>\n",
       "      <th>617751</th>\n",
       "      <td>rural</td>\n",
       "      <td>2</td>\n",
       "      <td>0.08</td>\n",
       "      <td>70</td>\n",
       "      <td>daylight</td>\n",
       "      <td>clear</td>\n",
       "      <td>False</td>\n",
       "      <td>False</td>\n",
       "      <td>evening</td>\n",
       "      <td>True</td>\n",
       "      <td>False</td>\n",
       "      <td>1</td>\n",
       "      <td>0.20</td>\n",
       "    </tr>\n",
       "    <tr>\n",
       "      <th>617752</th>\n",
       "      <td>rural</td>\n",
       "      <td>1</td>\n",
       "      <td>0.83</td>\n",
       "      <td>70</td>\n",
       "      <td>dim</td>\n",
       "      <td>foggy</td>\n",
       "      <td>False</td>\n",
       "      <td>True</td>\n",
       "      <td>morning</td>\n",
       "      <td>False</td>\n",
       "      <td>True</td>\n",
       "      <td>0</td>\n",
       "      <td>0.58</td>\n",
       "    </tr>\n",
       "    <tr>\n",
       "      <th>617753</th>\n",
       "      <td>rural</td>\n",
       "      <td>2</td>\n",
       "      <td>0.01</td>\n",
       "      <td>45</td>\n",
       "      <td>daylight</td>\n",
       "      <td>foggy</td>\n",
       "      <td>False</td>\n",
       "      <td>True</td>\n",
       "      <td>evening</td>\n",
       "      <td>True</td>\n",
       "      <td>False</td>\n",
       "      <td>2</td>\n",
       "      <td>0.14</td>\n",
       "    </tr>\n",
       "  </tbody>\n",
       "</table>\n",
       "<p>617754 rows × 13 columns</p>\n",
       "</div>"
      ],
      "text/plain": [
       "       road_type  num_lanes  curvature  speed_limit  lighting weather  \\\n",
       "0          urban          2       0.06           35  daylight   rainy   \n",
       "1          urban          4       0.99           35  daylight   clear   \n",
       "2          rural          4       0.63           70       dim   clear   \n",
       "3        highway          4       0.07           35       dim   rainy   \n",
       "4          rural          1       0.58           60  daylight   foggy   \n",
       "...          ...        ...        ...          ...       ...     ...   \n",
       "617749     rural          2       0.61           60       dim   foggy   \n",
       "617750     rural          2       0.52           35       dim   foggy   \n",
       "617751     rural          2       0.08           70  daylight   clear   \n",
       "617752     rural          1       0.83           70       dim   foggy   \n",
       "617753     rural          2       0.01           45  daylight   foggy   \n",
       "\n",
       "        road_signs_present  public_road time_of_day  holiday  school_season  \\\n",
       "0                    False         True   afternoon    False           True   \n",
       "1                     True        False     evening     True           True   \n",
       "2                    False         True     morning     True          False   \n",
       "3                     True         True     morning    False          False   \n",
       "4                    False        False     evening     True          False   \n",
       "...                    ...          ...         ...      ...            ...   \n",
       "617749               False         True     evening    False          False   \n",
       "617750                True         True   afternoon    False          False   \n",
       "617751               False        False     evening     True          False   \n",
       "617752               False         True     morning    False           True   \n",
       "617753               False         True     evening     True          False   \n",
       "\n",
       "        num_reported_accidents  accident_risk  \n",
       "0                            1           0.13  \n",
       "1                            0           0.35  \n",
       "2                            2           0.30  \n",
       "3                            1           0.21  \n",
       "4                            1           0.56  \n",
       "...                        ...            ...  \n",
       "617749                       1           0.54  \n",
       "617750                       1           0.18  \n",
       "617751                       1           0.20  \n",
       "617752                       0           0.58  \n",
       "617753                       2           0.14  \n",
       "\n",
       "[617754 rows x 13 columns]"
      ]
     },
     "execution_count": 11,
     "metadata": {},
     "output_type": "execute_result"
    }
   ],
   "source": [
    "new_train_df = pd.concat([train_df, og_df_a], ignore_index=True)\n",
    "new_train_df"
   ]
  },
  {
   "cell_type": "code",
   "execution_count": 12,
   "id": "e609f99c",
   "metadata": {
    "execution": {
     "iopub.execute_input": "2025-10-31T04:10:16.239511Z",
     "iopub.status.busy": "2025-10-31T04:10:16.239177Z",
     "iopub.status.idle": "2025-10-31T04:10:16.255071Z",
     "shell.execute_reply": "2025-10-31T04:10:16.254043Z"
    },
    "papermill": {
     "duration": 0.023557,
     "end_time": "2025-10-31T04:10:16.256433",
     "exception": false,
     "start_time": "2025-10-31T04:10:16.232876",
     "status": "completed"
    },
    "tags": []
   },
   "outputs": [
    {
     "data": {
      "text/html": [
       "<div>\n",
       "<style scoped>\n",
       "    .dataframe tbody tr th:only-of-type {\n",
       "        vertical-align: middle;\n",
       "    }\n",
       "\n",
       "    .dataframe tbody tr th {\n",
       "        vertical-align: top;\n",
       "    }\n",
       "\n",
       "    .dataframe thead th {\n",
       "        text-align: right;\n",
       "    }\n",
       "</style>\n",
       "<table border=\"1\" class=\"dataframe\">\n",
       "  <thead>\n",
       "    <tr style=\"text-align: right;\">\n",
       "      <th></th>\n",
       "      <th>road_type</th>\n",
       "      <th>num_lanes</th>\n",
       "      <th>curvature</th>\n",
       "      <th>speed_limit</th>\n",
       "      <th>lighting</th>\n",
       "      <th>weather</th>\n",
       "      <th>road_signs_present</th>\n",
       "      <th>public_road</th>\n",
       "      <th>time_of_day</th>\n",
       "      <th>holiday</th>\n",
       "      <th>school_season</th>\n",
       "      <th>num_reported_accidents</th>\n",
       "      <th>accident_risk</th>\n",
       "    </tr>\n",
       "  </thead>\n",
       "  <tbody>\n",
       "    <tr>\n",
       "      <th>0</th>\n",
       "      <td>rural</td>\n",
       "      <td>2</td>\n",
       "      <td>0.29</td>\n",
       "      <td>70</td>\n",
       "      <td>night</td>\n",
       "      <td>rainy</td>\n",
       "      <td>False</td>\n",
       "      <td>True</td>\n",
       "      <td>evening</td>\n",
       "      <td>False</td>\n",
       "      <td>False</td>\n",
       "      <td>1</td>\n",
       "      <td>0.64</td>\n",
       "    </tr>\n",
       "    <tr>\n",
       "      <th>1</th>\n",
       "      <td>highway</td>\n",
       "      <td>1</td>\n",
       "      <td>0.34</td>\n",
       "      <td>25</td>\n",
       "      <td>dim</td>\n",
       "      <td>clear</td>\n",
       "      <td>False</td>\n",
       "      <td>False</td>\n",
       "      <td>morning</td>\n",
       "      <td>False</td>\n",
       "      <td>False</td>\n",
       "      <td>3</td>\n",
       "      <td>0.27</td>\n",
       "    </tr>\n",
       "    <tr>\n",
       "      <th>2</th>\n",
       "      <td>rural</td>\n",
       "      <td>2</td>\n",
       "      <td>0.76</td>\n",
       "      <td>70</td>\n",
       "      <td>night</td>\n",
       "      <td>foggy</td>\n",
       "      <td>True</td>\n",
       "      <td>False</td>\n",
       "      <td>evening</td>\n",
       "      <td>True</td>\n",
       "      <td>True</td>\n",
       "      <td>1</td>\n",
       "      <td>0.76</td>\n",
       "    </tr>\n",
       "    <tr>\n",
       "      <th>3</th>\n",
       "      <td>rural</td>\n",
       "      <td>3</td>\n",
       "      <td>0.37</td>\n",
       "      <td>70</td>\n",
       "      <td>night</td>\n",
       "      <td>foggy</td>\n",
       "      <td>True</td>\n",
       "      <td>False</td>\n",
       "      <td>morning</td>\n",
       "      <td>False</td>\n",
       "      <td>True</td>\n",
       "      <td>0</td>\n",
       "      <td>0.60</td>\n",
       "    </tr>\n",
       "    <tr>\n",
       "      <th>4</th>\n",
       "      <td>highway</td>\n",
       "      <td>3</td>\n",
       "      <td>0.39</td>\n",
       "      <td>45</td>\n",
       "      <td>dim</td>\n",
       "      <td>rainy</td>\n",
       "      <td>False</td>\n",
       "      <td>True</td>\n",
       "      <td>morning</td>\n",
       "      <td>False</td>\n",
       "      <td>False</td>\n",
       "      <td>0</td>\n",
       "      <td>0.17</td>\n",
       "    </tr>\n",
       "    <tr>\n",
       "      <th>...</th>\n",
       "      <td>...</td>\n",
       "      <td>...</td>\n",
       "      <td>...</td>\n",
       "      <td>...</td>\n",
       "      <td>...</td>\n",
       "      <td>...</td>\n",
       "      <td>...</td>\n",
       "      <td>...</td>\n",
       "      <td>...</td>\n",
       "      <td>...</td>\n",
       "      <td>...</td>\n",
       "      <td>...</td>\n",
       "      <td>...</td>\n",
       "    </tr>\n",
       "    <tr>\n",
       "      <th>99995</th>\n",
       "      <td>rural</td>\n",
       "      <td>2</td>\n",
       "      <td>0.61</td>\n",
       "      <td>60</td>\n",
       "      <td>dim</td>\n",
       "      <td>foggy</td>\n",
       "      <td>False</td>\n",
       "      <td>True</td>\n",
       "      <td>evening</td>\n",
       "      <td>False</td>\n",
       "      <td>False</td>\n",
       "      <td>1</td>\n",
       "      <td>0.54</td>\n",
       "    </tr>\n",
       "    <tr>\n",
       "      <th>99996</th>\n",
       "      <td>rural</td>\n",
       "      <td>2</td>\n",
       "      <td>0.52</td>\n",
       "      <td>35</td>\n",
       "      <td>dim</td>\n",
       "      <td>foggy</td>\n",
       "      <td>True</td>\n",
       "      <td>True</td>\n",
       "      <td>afternoon</td>\n",
       "      <td>False</td>\n",
       "      <td>False</td>\n",
       "      <td>1</td>\n",
       "      <td>0.18</td>\n",
       "    </tr>\n",
       "    <tr>\n",
       "      <th>99997</th>\n",
       "      <td>rural</td>\n",
       "      <td>2</td>\n",
       "      <td>0.08</td>\n",
       "      <td>70</td>\n",
       "      <td>daylight</td>\n",
       "      <td>clear</td>\n",
       "      <td>False</td>\n",
       "      <td>False</td>\n",
       "      <td>evening</td>\n",
       "      <td>True</td>\n",
       "      <td>False</td>\n",
       "      <td>1</td>\n",
       "      <td>0.20</td>\n",
       "    </tr>\n",
       "    <tr>\n",
       "      <th>99998</th>\n",
       "      <td>rural</td>\n",
       "      <td>1</td>\n",
       "      <td>0.83</td>\n",
       "      <td>70</td>\n",
       "      <td>dim</td>\n",
       "      <td>foggy</td>\n",
       "      <td>False</td>\n",
       "      <td>True</td>\n",
       "      <td>morning</td>\n",
       "      <td>False</td>\n",
       "      <td>True</td>\n",
       "      <td>0</td>\n",
       "      <td>0.58</td>\n",
       "    </tr>\n",
       "    <tr>\n",
       "      <th>99999</th>\n",
       "      <td>rural</td>\n",
       "      <td>2</td>\n",
       "      <td>0.01</td>\n",
       "      <td>45</td>\n",
       "      <td>daylight</td>\n",
       "      <td>foggy</td>\n",
       "      <td>False</td>\n",
       "      <td>True</td>\n",
       "      <td>evening</td>\n",
       "      <td>True</td>\n",
       "      <td>False</td>\n",
       "      <td>2</td>\n",
       "      <td>0.14</td>\n",
       "    </tr>\n",
       "  </tbody>\n",
       "</table>\n",
       "<p>100000 rows × 13 columns</p>\n",
       "</div>"
      ],
      "text/plain": [
       "      road_type  num_lanes  curvature  speed_limit  lighting weather  \\\n",
       "0         rural          2       0.29           70     night   rainy   \n",
       "1       highway          1       0.34           25       dim   clear   \n",
       "2         rural          2       0.76           70     night   foggy   \n",
       "3         rural          3       0.37           70     night   foggy   \n",
       "4       highway          3       0.39           45       dim   rainy   \n",
       "...         ...        ...        ...          ...       ...     ...   \n",
       "99995     rural          2       0.61           60       dim   foggy   \n",
       "99996     rural          2       0.52           35       dim   foggy   \n",
       "99997     rural          2       0.08           70  daylight   clear   \n",
       "99998     rural          1       0.83           70       dim   foggy   \n",
       "99999     rural          2       0.01           45  daylight   foggy   \n",
       "\n",
       "       road_signs_present  public_road time_of_day  holiday  school_season  \\\n",
       "0                   False         True     evening    False          False   \n",
       "1                   False        False     morning    False          False   \n",
       "2                    True        False     evening     True           True   \n",
       "3                    True        False     morning    False           True   \n",
       "4                   False         True     morning    False          False   \n",
       "...                   ...          ...         ...      ...            ...   \n",
       "99995               False         True     evening    False          False   \n",
       "99996                True         True   afternoon    False          False   \n",
       "99997               False        False     evening     True          False   \n",
       "99998               False         True     morning    False           True   \n",
       "99999               False         True     evening     True          False   \n",
       "\n",
       "       num_reported_accidents  accident_risk  \n",
       "0                           1           0.64  \n",
       "1                           3           0.27  \n",
       "2                           1           0.76  \n",
       "3                           0           0.60  \n",
       "4                           0           0.17  \n",
       "...                       ...            ...  \n",
       "99995                       1           0.54  \n",
       "99996                       1           0.18  \n",
       "99997                       1           0.20  \n",
       "99998                       0           0.58  \n",
       "99999                       2           0.14  \n",
       "\n",
       "[100000 rows x 13 columns]"
      ]
     },
     "execution_count": 12,
     "metadata": {},
     "output_type": "execute_result"
    }
   ],
   "source": [
    "og_df_a"
   ]
  },
  {
   "cell_type": "code",
   "execution_count": 13,
   "id": "838df3a6",
   "metadata": {
    "execution": {
     "iopub.execute_input": "2025-10-31T04:10:16.271394Z",
     "iopub.status.busy": "2025-10-31T04:10:16.270562Z",
     "iopub.status.idle": "2025-10-31T04:10:16.286827Z",
     "shell.execute_reply": "2025-10-31T04:10:16.285821Z"
    },
    "papermill": {
     "duration": 0.024869,
     "end_time": "2025-10-31T04:10:16.288316",
     "exception": false,
     "start_time": "2025-10-31T04:10:16.263447",
     "status": "completed"
    },
    "tags": []
   },
   "outputs": [
    {
     "data": {
      "text/html": [
       "<div>\n",
       "<style scoped>\n",
       "    .dataframe tbody tr th:only-of-type {\n",
       "        vertical-align: middle;\n",
       "    }\n",
       "\n",
       "    .dataframe tbody tr th {\n",
       "        vertical-align: top;\n",
       "    }\n",
       "\n",
       "    .dataframe thead th {\n",
       "        text-align: right;\n",
       "    }\n",
       "</style>\n",
       "<table border=\"1\" class=\"dataframe\">\n",
       "  <thead>\n",
       "    <tr style=\"text-align: right;\">\n",
       "      <th></th>\n",
       "      <th>road_type</th>\n",
       "      <th>num_lanes</th>\n",
       "      <th>curvature</th>\n",
       "      <th>speed_limit</th>\n",
       "      <th>lighting</th>\n",
       "      <th>weather</th>\n",
       "      <th>road_signs_present</th>\n",
       "      <th>public_road</th>\n",
       "      <th>time_of_day</th>\n",
       "      <th>holiday</th>\n",
       "      <th>school_season</th>\n",
       "      <th>num_reported_accidents</th>\n",
       "      <th>accident_risk</th>\n",
       "    </tr>\n",
       "    <tr>\n",
       "      <th>id</th>\n",
       "      <th></th>\n",
       "      <th></th>\n",
       "      <th></th>\n",
       "      <th></th>\n",
       "      <th></th>\n",
       "      <th></th>\n",
       "      <th></th>\n",
       "      <th></th>\n",
       "      <th></th>\n",
       "      <th></th>\n",
       "      <th></th>\n",
       "      <th></th>\n",
       "      <th></th>\n",
       "    </tr>\n",
       "  </thead>\n",
       "  <tbody>\n",
       "    <tr>\n",
       "      <th>0</th>\n",
       "      <td>urban</td>\n",
       "      <td>2</td>\n",
       "      <td>0.06</td>\n",
       "      <td>35</td>\n",
       "      <td>daylight</td>\n",
       "      <td>rainy</td>\n",
       "      <td>False</td>\n",
       "      <td>True</td>\n",
       "      <td>afternoon</td>\n",
       "      <td>False</td>\n",
       "      <td>True</td>\n",
       "      <td>1</td>\n",
       "      <td>0.13</td>\n",
       "    </tr>\n",
       "    <tr>\n",
       "      <th>1</th>\n",
       "      <td>urban</td>\n",
       "      <td>4</td>\n",
       "      <td>0.99</td>\n",
       "      <td>35</td>\n",
       "      <td>daylight</td>\n",
       "      <td>clear</td>\n",
       "      <td>True</td>\n",
       "      <td>False</td>\n",
       "      <td>evening</td>\n",
       "      <td>True</td>\n",
       "      <td>True</td>\n",
       "      <td>0</td>\n",
       "      <td>0.35</td>\n",
       "    </tr>\n",
       "    <tr>\n",
       "      <th>2</th>\n",
       "      <td>rural</td>\n",
       "      <td>4</td>\n",
       "      <td>0.63</td>\n",
       "      <td>70</td>\n",
       "      <td>dim</td>\n",
       "      <td>clear</td>\n",
       "      <td>False</td>\n",
       "      <td>True</td>\n",
       "      <td>morning</td>\n",
       "      <td>True</td>\n",
       "      <td>False</td>\n",
       "      <td>2</td>\n",
       "      <td>0.30</td>\n",
       "    </tr>\n",
       "    <tr>\n",
       "      <th>3</th>\n",
       "      <td>highway</td>\n",
       "      <td>4</td>\n",
       "      <td>0.07</td>\n",
       "      <td>35</td>\n",
       "      <td>dim</td>\n",
       "      <td>rainy</td>\n",
       "      <td>True</td>\n",
       "      <td>True</td>\n",
       "      <td>morning</td>\n",
       "      <td>False</td>\n",
       "      <td>False</td>\n",
       "      <td>1</td>\n",
       "      <td>0.21</td>\n",
       "    </tr>\n",
       "    <tr>\n",
       "      <th>4</th>\n",
       "      <td>rural</td>\n",
       "      <td>1</td>\n",
       "      <td>0.58</td>\n",
       "      <td>60</td>\n",
       "      <td>daylight</td>\n",
       "      <td>foggy</td>\n",
       "      <td>False</td>\n",
       "      <td>False</td>\n",
       "      <td>evening</td>\n",
       "      <td>True</td>\n",
       "      <td>False</td>\n",
       "      <td>1</td>\n",
       "      <td>0.56</td>\n",
       "    </tr>\n",
       "    <tr>\n",
       "      <th>...</th>\n",
       "      <td>...</td>\n",
       "      <td>...</td>\n",
       "      <td>...</td>\n",
       "      <td>...</td>\n",
       "      <td>...</td>\n",
       "      <td>...</td>\n",
       "      <td>...</td>\n",
       "      <td>...</td>\n",
       "      <td>...</td>\n",
       "      <td>...</td>\n",
       "      <td>...</td>\n",
       "      <td>...</td>\n",
       "      <td>...</td>\n",
       "    </tr>\n",
       "    <tr>\n",
       "      <th>517749</th>\n",
       "      <td>highway</td>\n",
       "      <td>4</td>\n",
       "      <td>0.10</td>\n",
       "      <td>70</td>\n",
       "      <td>daylight</td>\n",
       "      <td>foggy</td>\n",
       "      <td>True</td>\n",
       "      <td>True</td>\n",
       "      <td>afternoon</td>\n",
       "      <td>False</td>\n",
       "      <td>False</td>\n",
       "      <td>2</td>\n",
       "      <td>0.32</td>\n",
       "    </tr>\n",
       "    <tr>\n",
       "      <th>517750</th>\n",
       "      <td>rural</td>\n",
       "      <td>4</td>\n",
       "      <td>0.47</td>\n",
       "      <td>35</td>\n",
       "      <td>daylight</td>\n",
       "      <td>rainy</td>\n",
       "      <td>True</td>\n",
       "      <td>True</td>\n",
       "      <td>morning</td>\n",
       "      <td>False</td>\n",
       "      <td>False</td>\n",
       "      <td>1</td>\n",
       "      <td>0.26</td>\n",
       "    </tr>\n",
       "    <tr>\n",
       "      <th>517751</th>\n",
       "      <td>urban</td>\n",
       "      <td>4</td>\n",
       "      <td>0.62</td>\n",
       "      <td>25</td>\n",
       "      <td>daylight</td>\n",
       "      <td>foggy</td>\n",
       "      <td>False</td>\n",
       "      <td>False</td>\n",
       "      <td>afternoon</td>\n",
       "      <td>False</td>\n",
       "      <td>True</td>\n",
       "      <td>0</td>\n",
       "      <td>0.19</td>\n",
       "    </tr>\n",
       "    <tr>\n",
       "      <th>517752</th>\n",
       "      <td>highway</td>\n",
       "      <td>3</td>\n",
       "      <td>0.63</td>\n",
       "      <td>25</td>\n",
       "      <td>night</td>\n",
       "      <td>clear</td>\n",
       "      <td>True</td>\n",
       "      <td>False</td>\n",
       "      <td>afternoon</td>\n",
       "      <td>True</td>\n",
       "      <td>True</td>\n",
       "      <td>3</td>\n",
       "      <td>0.51</td>\n",
       "    </tr>\n",
       "    <tr>\n",
       "      <th>517753</th>\n",
       "      <td>highway</td>\n",
       "      <td>2</td>\n",
       "      <td>0.31</td>\n",
       "      <td>45</td>\n",
       "      <td>dim</td>\n",
       "      <td>rainy</td>\n",
       "      <td>False</td>\n",
       "      <td>True</td>\n",
       "      <td>afternoon</td>\n",
       "      <td>True</td>\n",
       "      <td>True</td>\n",
       "      <td>2</td>\n",
       "      <td>0.22</td>\n",
       "    </tr>\n",
       "  </tbody>\n",
       "</table>\n",
       "<p>517754 rows × 13 columns</p>\n",
       "</div>"
      ],
      "text/plain": [
       "       road_type  num_lanes  curvature  speed_limit  lighting weather  \\\n",
       "id                                                                      \n",
       "0          urban          2       0.06           35  daylight   rainy   \n",
       "1          urban          4       0.99           35  daylight   clear   \n",
       "2          rural          4       0.63           70       dim   clear   \n",
       "3        highway          4       0.07           35       dim   rainy   \n",
       "4          rural          1       0.58           60  daylight   foggy   \n",
       "...          ...        ...        ...          ...       ...     ...   \n",
       "517749   highway          4       0.10           70  daylight   foggy   \n",
       "517750     rural          4       0.47           35  daylight   rainy   \n",
       "517751     urban          4       0.62           25  daylight   foggy   \n",
       "517752   highway          3       0.63           25     night   clear   \n",
       "517753   highway          2       0.31           45       dim   rainy   \n",
       "\n",
       "        road_signs_present  public_road time_of_day  holiday  school_season  \\\n",
       "id                                                                            \n",
       "0                    False         True   afternoon    False           True   \n",
       "1                     True        False     evening     True           True   \n",
       "2                    False         True     morning     True          False   \n",
       "3                     True         True     morning    False          False   \n",
       "4                    False        False     evening     True          False   \n",
       "...                    ...          ...         ...      ...            ...   \n",
       "517749                True         True   afternoon    False          False   \n",
       "517750                True         True     morning    False          False   \n",
       "517751               False        False   afternoon    False           True   \n",
       "517752                True        False   afternoon     True           True   \n",
       "517753               False         True   afternoon     True           True   \n",
       "\n",
       "        num_reported_accidents  accident_risk  \n",
       "id                                             \n",
       "0                            1           0.13  \n",
       "1                            0           0.35  \n",
       "2                            2           0.30  \n",
       "3                            1           0.21  \n",
       "4                            1           0.56  \n",
       "...                        ...            ...  \n",
       "517749                       2           0.32  \n",
       "517750                       1           0.26  \n",
       "517751                       0           0.19  \n",
       "517752                       3           0.51  \n",
       "517753                       2           0.22  \n",
       "\n",
       "[517754 rows x 13 columns]"
      ]
     },
     "execution_count": 13,
     "metadata": {},
     "output_type": "execute_result"
    }
   ],
   "source": [
    "train_df"
   ]
  },
  {
   "cell_type": "code",
   "execution_count": 14,
   "id": "fa6a4a19",
   "metadata": {
    "execution": {
     "iopub.execute_input": "2025-10-31T04:10:16.302042Z",
     "iopub.status.busy": "2025-10-31T04:10:16.301684Z",
     "iopub.status.idle": "2025-10-31T04:10:16.434424Z",
     "shell.execute_reply": "2025-10-31T04:10:16.431787Z"
    },
    "papermill": {
     "duration": 0.147867,
     "end_time": "2025-10-31T04:10:16.442495",
     "exception": false,
     "start_time": "2025-10-31T04:10:16.294628",
     "status": "completed"
    },
    "scrolled": true,
    "tags": []
   },
   "outputs": [],
   "source": [
    "TabularPredictor.fit??"
   ]
  },
  {
   "cell_type": "code",
   "execution_count": 15,
   "id": "ec918b7a",
   "metadata": {
    "execution": {
     "iopub.execute_input": "2025-10-31T04:10:16.456411Z",
     "iopub.status.busy": "2025-10-31T04:10:16.455709Z",
     "iopub.status.idle": "2025-10-31T04:10:16.460845Z",
     "shell.execute_reply": "2025-10-31T04:10:16.459798Z"
    },
    "papermill": {
     "duration": 0.013775,
     "end_time": "2025-10-31T04:10:16.462589",
     "exception": false,
     "start_time": "2025-10-31T04:10:16.448814",
     "status": "completed"
    },
    "tags": []
   },
   "outputs": [],
   "source": [
    "target = 'accident_risk'\n",
    "eval_metric = 'rmse'\n",
    "#train_data = train\n",
    "train_data = new_train_df\n",
    "#Time_limit = 3600*10\n",
    "Time_limit = 900\n",
    "problem_type='regression'"
   ]
  },
  {
   "cell_type": "code",
   "execution_count": 16,
   "id": "809ecbf6",
   "metadata": {
    "_kg_hide-output": true,
    "execution": {
     "iopub.execute_input": "2025-10-31T04:10:16.476174Z",
     "iopub.status.busy": "2025-10-31T04:10:16.475786Z",
     "iopub.status.idle": "2025-10-31T04:25:18.167541Z",
     "shell.execute_reply": "2025-10-31T04:25:18.166530Z"
    },
    "papermill": {
     "duration": 901.712224,
     "end_time": "2025-10-31T04:25:18.181073",
     "exception": false,
     "start_time": "2025-10-31T04:10:16.468849",
     "status": "completed"
    },
    "tags": []
   },
   "outputs": [
    {
     "name": "stderr",
     "output_type": "stream",
     "text": [
      "No path specified. Models will be saved in: \"AutogluonModels/ag-20251031_041016\"\n",
      "2025-10-31 04:10:20,828\tINFO worker.py:1843 -- Started a local Ray instance. View the dashboard at \u001b[1m\u001b[32mhttp://127.0.0.1:8265 \u001b[39m\u001b[22m\n",
      "<frozen importlib._bootstrap>:241: RuntimeWarning: pyarrow.lib.ChunkedArray size changed, may indicate binary incompatibility. Expected 64 from C header, got 72 from PyObject\n",
      "<frozen importlib._bootstrap>:241: RuntimeWarning: pyarrow.lib._Tabular size changed, may indicate binary incompatibility. Expected 24 from C header, got 32 from PyObject\n",
      "<frozen importlib._bootstrap>:241: RuntimeWarning: pyarrow.lib.Table size changed, may indicate binary incompatibility. Expected 56 from C header, got 64 from PyObject\n"
     ]
    },
    {
     "name": "stdout",
     "output_type": "stream",
     "text": [
      "CPU times: user 13.7 s, sys: 3.66 s, total: 17.3 s\n",
      "Wall time: 15min 1s\n"
     ]
    }
   ],
   "source": [
    "%%time\n",
    "predictor = TabularPredictor(\n",
    "    label=target, \n",
    "    eval_metric=eval_metric,\n",
    "    verbosity=1,\n",
    "    problem_type=problem_type\n",
    ").fit(\n",
    "    train_data, \n",
    "    presets='best_quality',\n",
    "    excluded_model_types=['KNN'], \n",
    "    time_limit=Time_limit,\n",
    "    #dynamic_stacking=False,  # ← ADD THIS\n",
    "    #ag_args_fit={'num_gpus': 1}\n",
    ")"
   ]
  },
  {
   "cell_type": "code",
   "execution_count": 17,
   "id": "e9f50888",
   "metadata": {
    "_kg_hide-output": true,
    "execution": {
     "iopub.execute_input": "2025-10-31T04:25:18.196357Z",
     "iopub.status.busy": "2025-10-31T04:25:18.195412Z",
     "iopub.status.idle": "2025-10-31T04:25:18.216065Z",
     "shell.execute_reply": "2025-10-31T04:25:18.215098Z"
    },
    "papermill": {
     "duration": 0.029748,
     "end_time": "2025-10-31T04:25:18.217573",
     "exception": false,
     "start_time": "2025-10-31T04:25:18.187825",
     "status": "completed"
    },
    "scrolled": true,
    "tags": []
   },
   "outputs": [
    {
     "name": "stdout",
     "output_type": "stream",
     "text": [
      "CPU times: user 5.81 ms, sys: 951 µs, total: 6.77 ms\n",
      "Wall time: 6.07 ms\n"
     ]
    },
    {
     "data": {
      "text/html": [
       "<div>\n",
       "<style scoped>\n",
       "    .dataframe tbody tr th:only-of-type {\n",
       "        vertical-align: middle;\n",
       "    }\n",
       "\n",
       "    .dataframe tbody tr th {\n",
       "        vertical-align: top;\n",
       "    }\n",
       "\n",
       "    .dataframe thead th {\n",
       "        text-align: right;\n",
       "    }\n",
       "</style>\n",
       "<table border=\"1\" class=\"dataframe\">\n",
       "  <thead>\n",
       "    <tr style=\"text-align: right;\">\n",
       "      <th></th>\n",
       "      <th>model</th>\n",
       "      <th>score_val</th>\n",
       "      <th>eval_metric</th>\n",
       "      <th>pred_time_val</th>\n",
       "      <th>fit_time</th>\n",
       "      <th>pred_time_val_marginal</th>\n",
       "      <th>fit_time_marginal</th>\n",
       "      <th>stack_level</th>\n",
       "      <th>can_infer</th>\n",
       "      <th>fit_order</th>\n",
       "    </tr>\n",
       "  </thead>\n",
       "  <tbody>\n",
       "    <tr>\n",
       "      <th>0</th>\n",
       "      <td>WeightedEnsemble_L3</td>\n",
       "      <td>-0.056166</td>\n",
       "      <td>root_mean_squared_error</td>\n",
       "      <td>235.034604</td>\n",
       "      <td>577.106565</td>\n",
       "      <td>0.014575</td>\n",
       "      <td>0.437112</td>\n",
       "      <td>3</td>\n",
       "      <td>True</td>\n",
       "      <td>5</td>\n",
       "    </tr>\n",
       "    <tr>\n",
       "      <th>1</th>\n",
       "      <td>LightGBMXT_BAG_L2</td>\n",
       "      <td>-0.056188</td>\n",
       "      <td>root_mean_squared_error</td>\n",
       "      <td>235.020029</td>\n",
       "      <td>576.669454</td>\n",
       "      <td>74.641537</td>\n",
       "      <td>177.918786</td>\n",
       "      <td>2</td>\n",
       "      <td>True</td>\n",
       "      <td>4</td>\n",
       "    </tr>\n",
       "    <tr>\n",
       "      <th>2</th>\n",
       "      <td>WeightedEnsemble_L2</td>\n",
       "      <td>-0.056217</td>\n",
       "      <td>root_mean_squared_error</td>\n",
       "      <td>160.399580</td>\n",
       "      <td>399.151855</td>\n",
       "      <td>0.021087</td>\n",
       "      <td>0.401188</td>\n",
       "      <td>2</td>\n",
       "      <td>True</td>\n",
       "      <td>3</td>\n",
       "    </tr>\n",
       "    <tr>\n",
       "      <th>3</th>\n",
       "      <td>LightGBMXT_BAG_L1</td>\n",
       "      <td>-0.056236</td>\n",
       "      <td>root_mean_squared_error</td>\n",
       "      <td>156.716342</td>\n",
       "      <td>369.294035</td>\n",
       "      <td>156.716342</td>\n",
       "      <td>369.294035</td>\n",
       "      <td>1</td>\n",
       "      <td>True</td>\n",
       "      <td>1</td>\n",
       "    </tr>\n",
       "    <tr>\n",
       "      <th>4</th>\n",
       "      <td>LightGBM_BAG_L1</td>\n",
       "      <td>-0.057586</td>\n",
       "      <td>root_mean_squared_error</td>\n",
       "      <td>3.662150</td>\n",
       "      <td>29.456632</td>\n",
       "      <td>3.662150</td>\n",
       "      <td>29.456632</td>\n",
       "      <td>1</td>\n",
       "      <td>True</td>\n",
       "      <td>2</td>\n",
       "    </tr>\n",
       "  </tbody>\n",
       "</table>\n",
       "</div>"
      ],
      "text/plain": [
       "                 model  score_val              eval_metric  pred_time_val  \\\n",
       "0  WeightedEnsemble_L3  -0.056166  root_mean_squared_error     235.034604   \n",
       "1    LightGBMXT_BAG_L2  -0.056188  root_mean_squared_error     235.020029   \n",
       "2  WeightedEnsemble_L2  -0.056217  root_mean_squared_error     160.399580   \n",
       "3    LightGBMXT_BAG_L1  -0.056236  root_mean_squared_error     156.716342   \n",
       "4      LightGBM_BAG_L1  -0.057586  root_mean_squared_error       3.662150   \n",
       "\n",
       "     fit_time  pred_time_val_marginal  fit_time_marginal  stack_level  \\\n",
       "0  577.106565                0.014575           0.437112            3   \n",
       "1  576.669454               74.641537         177.918786            2   \n",
       "2  399.151855                0.021087           0.401188            2   \n",
       "3  369.294035              156.716342         369.294035            1   \n",
       "4   29.456632                3.662150          29.456632            1   \n",
       "\n",
       "   can_infer  fit_order  \n",
       "0       True          5  \n",
       "1       True          4  \n",
       "2       True          3  \n",
       "3       True          1  \n",
       "4       True          2  "
      ]
     },
     "execution_count": 17,
     "metadata": {},
     "output_type": "execute_result"
    }
   ],
   "source": [
    "%%time\n",
    "predictor.leaderboard()"
   ]
  },
  {
   "cell_type": "code",
   "execution_count": 18,
   "id": "4e1bb23e",
   "metadata": {
    "execution": {
     "iopub.execute_input": "2025-10-31T04:25:18.232144Z",
     "iopub.status.busy": "2025-10-31T04:25:18.231778Z",
     "iopub.status.idle": "2025-10-31T04:28:41.586406Z",
     "shell.execute_reply": "2025-10-31T04:28:41.585140Z"
    },
    "papermill": {
     "duration": 203.371101,
     "end_time": "2025-10-31T04:28:41.595489",
     "exception": false,
     "start_time": "2025-10-31T04:25:18.224388",
     "status": "completed"
    },
    "tags": []
   },
   "outputs": [
    {
     "name": "stderr",
     "output_type": "stream",
     "text": [
      "<frozen importlib._bootstrap>:241: RuntimeWarning: pyarrow.lib.ChunkedArray size changed, may indicate binary incompatibility. Expected 64 from C header, got 72 from PyObject\n",
      "<frozen importlib._bootstrap>:241: RuntimeWarning: pyarrow.lib._Tabular size changed, may indicate binary incompatibility. Expected 24 from C header, got 32 from PyObject\n",
      "<frozen importlib._bootstrap>:241: RuntimeWarning: pyarrow.lib.Table size changed, may indicate binary incompatibility. Expected 56 from C header, got 64 from PyObject\n"
     ]
    },
    {
     "name": "stdout",
     "output_type": "stream",
     "text": [
      "CPU times: user 6min 42s, sys: 328 ms, total: 6min 43s\n",
      "Wall time: 3min 23s\n"
     ]
    }
   ],
   "source": [
    "%%time\n",
    "autogluon_preds = predictor.predict(test_df)"
   ]
  },
  {
   "cell_type": "code",
   "execution_count": 19,
   "id": "646e9413",
   "metadata": {
    "execution": {
     "iopub.execute_input": "2025-10-31T04:28:41.612074Z",
     "iopub.status.busy": "2025-10-31T04:28:41.610930Z",
     "iopub.status.idle": "2025-10-31T04:28:41.621383Z",
     "shell.execute_reply": "2025-10-31T04:28:41.620346Z"
    },
    "papermill": {
     "duration": 0.020213,
     "end_time": "2025-10-31T04:28:41.623345",
     "exception": false,
     "start_time": "2025-10-31T04:28:41.603132",
     "status": "completed"
    },
    "tags": []
   },
   "outputs": [
    {
     "data": {
      "text/plain": [
       "id\n",
       "517754    0.294867\n",
       "517755    0.120564\n",
       "517756    0.187431\n",
       "517757    0.341851\n",
       "517758    0.386882\n",
       "            ...   \n",
       "690334    0.111160\n",
       "690335    0.518146\n",
       "690336    0.247281\n",
       "690337    0.130350\n",
       "690338    0.483966\n",
       "Name: accident_risk, Length: 172585, dtype: float32"
      ]
     },
     "execution_count": 19,
     "metadata": {},
     "output_type": "execute_result"
    }
   ],
   "source": [
    "autogluon_preds"
   ]
  },
  {
   "cell_type": "code",
   "execution_count": 20,
   "id": "98e34d40",
   "metadata": {
    "execution": {
     "iopub.execute_input": "2025-10-31T04:28:41.638583Z",
     "iopub.status.busy": "2025-10-31T04:28:41.638252Z",
     "iopub.status.idle": "2025-10-31T04:28:42.154892Z",
     "shell.execute_reply": "2025-10-31T04:28:42.153576Z"
    },
    "papermill": {
     "duration": 0.526542,
     "end_time": "2025-10-31T04:28:42.156782",
     "exception": false,
     "start_time": "2025-10-31T04:28:41.630240",
     "status": "completed"
    },
    "tags": []
   },
   "outputs": [
    {
     "name": "stdout",
     "output_type": "stream",
     "text": [
      "rm: cannot remove 'submission.csv': No such file or directory\r\n"
     ]
    },
    {
     "data": {
      "text/html": [
       "<div>\n",
       "<style scoped>\n",
       "    .dataframe tbody tr th:only-of-type {\n",
       "        vertical-align: middle;\n",
       "    }\n",
       "\n",
       "    .dataframe tbody tr th {\n",
       "        vertical-align: top;\n",
       "    }\n",
       "\n",
       "    .dataframe thead th {\n",
       "        text-align: right;\n",
       "    }\n",
       "</style>\n",
       "<table border=\"1\" class=\"dataframe\">\n",
       "  <thead>\n",
       "    <tr style=\"text-align: right;\">\n",
       "      <th></th>\n",
       "      <th>id</th>\n",
       "      <th>accident_risk</th>\n",
       "    </tr>\n",
       "  </thead>\n",
       "  <tbody>\n",
       "    <tr>\n",
       "      <th>0</th>\n",
       "      <td>517754</td>\n",
       "      <td>0.294867</td>\n",
       "    </tr>\n",
       "    <tr>\n",
       "      <th>1</th>\n",
       "      <td>517755</td>\n",
       "      <td>0.120564</td>\n",
       "    </tr>\n",
       "    <tr>\n",
       "      <th>2</th>\n",
       "      <td>517756</td>\n",
       "      <td>0.187431</td>\n",
       "    </tr>\n",
       "    <tr>\n",
       "      <th>3</th>\n",
       "      <td>517757</td>\n",
       "      <td>0.341851</td>\n",
       "    </tr>\n",
       "    <tr>\n",
       "      <th>4</th>\n",
       "      <td>517758</td>\n",
       "      <td>0.386882</td>\n",
       "    </tr>\n",
       "  </tbody>\n",
       "</table>\n",
       "</div>"
      ],
      "text/plain": [
       "       id  accident_risk\n",
       "0  517754       0.294867\n",
       "1  517755       0.120564\n",
       "2  517756       0.187431\n",
       "3  517757       0.341851\n",
       "4  517758       0.386882"
      ]
     },
     "execution_count": 20,
     "metadata": {},
     "output_type": "execute_result"
    }
   ],
   "source": [
    "!rm submission.csv\n",
    "sub_df['accident_risk'] = autogluon_preds.values\n",
    "sub_df.to_csv('submission.csv', index=False)\n",
    "sub_df.head()"
   ]
  },
  {
   "cell_type": "code",
   "execution_count": null,
   "id": "4aedf654",
   "metadata": {
    "papermill": {
     "duration": 0.007096,
     "end_time": "2025-10-31T04:28:42.171044",
     "exception": false,
     "start_time": "2025-10-31T04:28:42.163948",
     "status": "completed"
    },
    "tags": []
   },
   "outputs": [],
   "source": []
  },
  {
   "cell_type": "code",
   "execution_count": null,
   "id": "977ceff2",
   "metadata": {
    "papermill": {
     "duration": 0.006517,
     "end_time": "2025-10-31T04:28:42.184516",
     "exception": false,
     "start_time": "2025-10-31T04:28:42.177999",
     "status": "completed"
    },
    "tags": []
   },
   "outputs": [],
   "source": []
  },
  {
   "cell_type": "code",
   "execution_count": null,
   "id": "39887013",
   "metadata": {
    "papermill": {
     "duration": 0.006809,
     "end_time": "2025-10-31T04:28:42.198348",
     "exception": false,
     "start_time": "2025-10-31T04:28:42.191539",
     "status": "completed"
    },
    "tags": []
   },
   "outputs": [],
   "source": []
  },
  {
   "cell_type": "code",
   "execution_count": null,
   "id": "b7ff52d5",
   "metadata": {
    "papermill": {
     "duration": 0.006641,
     "end_time": "2025-10-31T04:28:42.211790",
     "exception": false,
     "start_time": "2025-10-31T04:28:42.205149",
     "status": "completed"
    },
    "tags": []
   },
   "outputs": [],
   "source": []
  },
  {
   "cell_type": "code",
   "execution_count": null,
   "id": "a309fa8c",
   "metadata": {
    "papermill": {
     "duration": 0.006272,
     "end_time": "2025-10-31T04:28:42.224985",
     "exception": false,
     "start_time": "2025-10-31T04:28:42.218713",
     "status": "completed"
    },
    "tags": []
   },
   "outputs": [],
   "source": []
  },
  {
   "cell_type": "code",
   "execution_count": null,
   "id": "9c34fd84",
   "metadata": {
    "papermill": {
     "duration": 0.010731,
     "end_time": "2025-10-31T04:28:42.242966",
     "exception": false,
     "start_time": "2025-10-31T04:28:42.232235",
     "status": "completed"
    },
    "tags": []
   },
   "outputs": [],
   "source": []
  },
  {
   "cell_type": "code",
   "execution_count": null,
   "id": "3a88cbab",
   "metadata": {
    "papermill": {
     "duration": 0.006745,
     "end_time": "2025-10-31T04:28:42.256601",
     "exception": false,
     "start_time": "2025-10-31T04:28:42.249856",
     "status": "completed"
    },
    "tags": []
   },
   "outputs": [],
   "source": []
  },
  {
   "cell_type": "code",
   "execution_count": null,
   "id": "1f36795a",
   "metadata": {
    "papermill": {
     "duration": 0.00652,
     "end_time": "2025-10-31T04:28:42.269890",
     "exception": false,
     "start_time": "2025-10-31T04:28:42.263370",
     "status": "completed"
    },
    "tags": []
   },
   "outputs": [],
   "source": []
  }
 ],
 "metadata": {
  "kaggle": {
   "accelerator": "none",
   "dataSources": [
    {
     "databundleVersionId": 13760552,
     "sourceId": 91721,
     "sourceType": "competition"
    },
    {
     "datasetId": 7797612,
     "sourceId": 12367739,
     "sourceType": "datasetVersion"
    }
   ],
   "dockerImageVersionId": 31154,
   "isGpuEnabled": false,
   "isInternetEnabled": true,
   "language": "python",
   "sourceType": "notebook"
  },
  "kernelspec": {
   "display_name": "Python 3",
   "language": "python",
   "name": "python3"
  },
  "language_info": {
   "codemirror_mode": {
    "name": "ipython",
    "version": 3
   },
   "file_extension": ".py",
   "mimetype": "text/x-python",
   "name": "python",
   "nbconvert_exporter": "python",
   "pygments_lexer": "ipython3",
   "version": "3.11.13"
  },
  "papermill": {
   "default_parameters": {},
   "duration": 1156.879917,
   "end_time": "2025-10-31T04:28:47.501559",
   "environment_variables": {},
   "exception": null,
   "input_path": "__notebook__.ipynb",
   "output_path": "__notebook__.ipynb",
   "parameters": {},
   "start_time": "2025-10-31T04:09:30.621642",
   "version": "2.6.0"
  }
 },
 "nbformat": 4,
 "nbformat_minor": 5
}
